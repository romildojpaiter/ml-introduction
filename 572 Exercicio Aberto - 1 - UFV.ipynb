{
 "cells": [
  {
   "cell_type": "code",
   "execution_count": 2,
   "id": "50161992-3931-41ee-ba46-6125a124382e",
   "metadata": {},
   "outputs": [
    {
     "name": "stdout",
     "output_type": "stream",
     "text": [
      "b-a= 5\n",
      "a+c= 18\n",
      "b-c= 13\n",
      "a>b= False\n",
      "d<b= False\n",
      "d==e= False\n",
      "a!=a= False\n",
      "a>=d= False\n",
      "d<=e= False\n"
     ]
    }
   ],
   "source": [
    "a = 13\n",
    "b = 18\n",
    "c = b - a\n",
    "d = a+c\n",
    "e=b-c\n",
    "\n",
    "print(\"b-a=\", c)\n",
    "print(\"a+c=\", d)\n",
    "print(\"b-c=\", e)\n",
    "print(\"a>b=\", a>b)\n",
    "print(\"d<b=\", d<b)\n",
    "print(\"d==e=\", d==e)\n",
    "print(\"a!=a=\", a!=a)\n",
    "print(\"a>=d=\", a>=d)\n",
    "print(\"d<=e=\", d<=e)"
   ]
  },
  {
   "cell_type": "code",
   "execution_count": 7,
   "id": "e7e8f82f-c759-4e28-9563-b082bd1c01c3",
   "metadata": {},
   "outputs": [
    {
     "name": "stdout",
     "output_type": "stream",
     "text": [
      "b * a= 10\n",
      "a*a= 25\n",
      "b*b= 4\n",
      "d>e= True\n",
      "d<e= False\n",
      "d== (a*a)= True\n",
      "(d * d) != (e*a)= True\n",
      "a>=c= False\n",
      "c<=e= False\n"
     ]
    }
   ],
   "source": [
    "a = 5\n",
    "b = 2\n",
    "c = b * a\n",
    "d = a*a\n",
    "e=b*b\n",
    "\n",
    "print(\"b * a=\", c)\n",
    "print(\"a*a=\", d)\n",
    "print(\"b*b=\", e)\n",
    "print(\"d>e=\", d>e)\n",
    "print(\"d<e=\", d<e)\n",
    "print(\"d== (a*a)=\", d== (a*a))\n",
    "print(\"(d * d) != (e*a)=\", (d * d) != (e*a))\n",
    "print(\"a>=c=\", a>=c)\n",
    "print(\"c<=e=\", c<=e)"
   ]
  },
  {
   "cell_type": "code",
   "execution_count": 3,
   "id": "e48d3c52-8643-4655-bde7-c3aa5fc86103",
   "metadata": {},
   "outputs": [
    {
     "name": "stdout",
     "output_type": "stream",
     "text": [
      "64\n",
      "32\n",
      "16\n",
      "8\n",
      "4\n"
     ]
    }
   ],
   "source": [
    "x = 64\n",
    "\n",
    "while x> 2:\n",
    "    print(x)\n",
    "    x = int(x/2)"
   ]
  },
  {
   "cell_type": "code",
   "execution_count": 6,
   "id": "438d267b-01f6-44d8-8bf5-37a35968a2c8",
   "metadata": {},
   "outputs": [
    {
     "name": "stdin",
     "output_type": "stream",
     "text": [
      "digit uma nota entre 0 e 100:  101\n"
     ]
    },
    {
     "name": "stdout",
     "output_type": "stream",
     "text": [
      "nota inválida\n"
     ]
    },
    {
     "name": "stdin",
     "output_type": "stream",
     "text": [
      "digit uma nota entre 0 e 100:  80\n"
     ]
    },
    {
     "name": "stdout",
     "output_type": "stream",
     "text": [
      "aluno aprovado\n"
     ]
    }
   ],
   "source": [
    "nota = int(input(\"digit uma nota entre 0 e 100: \"))\n",
    "\n",
    "while nota > 100 or nota < 0:\n",
    "    print(\"nota inválida\")\n",
    "    nota = int(input(\"digit uma nota entre 0 e 100: \"))\n",
    "\n",
    "if nota < 60:\n",
    "    print(\"aluno reprovado\")\n",
    "else:\n",
    "    print(\"aluno aprovado\")\n"
   ]
  }
 ],
 "metadata": {
  "kernelspec": {
   "display_name": "Python 3 (ipykernel)",
   "language": "python",
   "name": "python3"
  },
  "language_info": {
   "codemirror_mode": {
    "name": "ipython",
    "version": 3
   },
   "file_extension": ".py",
   "mimetype": "text/x-python",
   "name": "python",
   "nbconvert_exporter": "python",
   "pygments_lexer": "ipython3",
   "version": "3.12.3"
  }
 },
 "nbformat": 4,
 "nbformat_minor": 5
}
