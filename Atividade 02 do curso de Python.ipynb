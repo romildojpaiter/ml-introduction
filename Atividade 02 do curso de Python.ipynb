{
 "cells": [
  {
   "cell_type": "raw",
   "id": "ea792935-9b15-47f4-a50a-15c93974765c",
   "metadata": {},
   "source": [
    "Utilizando vetores e comando de repetição, crie um código que receba as notas de 5 atividades, que será informada pelo usuário. \n",
    "Em seguida, faça a média das notas e imprima na tela a média e “Aluno aprovado!” caso a média seja superior ou igual a 60,0 e \n",
    "“Aluno reprovado” caso a média seja inferior a 60,0."
   ]
  },
  {
   "cell_type": "code",
   "execution_count": 12,
   "id": "b5c40384-a51e-4516-80a2-56b283b7b5f5",
   "metadata": {},
   "outputs": [
    {
     "name": "stdout",
     "output_type": "stream",
     "text": [
      "### INFORME NOTAS DE 1 A 100 ###\n"
     ]
    },
    {
     "name": "stdin",
     "output_type": "stream",
     "text": [
      "Digite a nota 1:  10\n",
      "Digite a nota 2:  110\n"
     ]
    },
    {
     "name": "stdout",
     "output_type": "stream",
     "text": [
      "Nota inválida\n"
     ]
    },
    {
     "name": "stdin",
     "output_type": "stream",
     "text": [
      "Digite a nota 2:  78\n",
      "Digite a nota 3:  89\n",
      "Digite a nota 4:  29\n",
      "Digite a nota 5:  70\n"
     ]
    },
    {
     "name": "stdout",
     "output_type": "stream",
     "text": [
      "Aluno Reprovado com média 55.2\n"
     ]
    }
   ],
   "source": [
    "import numpy as np\n",
    "\n",
    "count = 5\n",
    "notas = np.zeros(count, dtype=float)\n",
    "i = 0\n",
    "print(\"### INFORME NOTAS DE 1 A 100 ###\")\n",
    "while i < count:\n",
    "    y = i + 1\n",
    "    try:\n",
    "        nota = float(input(f'Digite a nota {y}: '))\n",
    "        if (nota < 0 or nota > 100):\n",
    "            print(\"Nota inválida\")\n",
    "            continue                \n",
    "    except:\n",
    "        print(\"Informe um valor válido\")\n",
    "        continue    \n",
    "    notas[i] = nota\n",
    "    i = y\n",
    "\n",
    "# realizando os calculos\n",
    "percentagem_aprovacao = 60\n",
    "total_notas = notas.sum\n",
    "media =  float(notas.sum()/notas.size)\n",
    "if media >= percentagem_aprovacao:\n",
    "    print(f'Aluno Aprovado com média {media}')\n",
    "else:\n",
    "    print(f'Aluno Reprovado com média {media}')"
   ]
  },
  {
   "cell_type": "raw",
   "id": "3600f8ef-a0e4-4a47-b757-d25a3942092c",
   "metadata": {},
   "source": [
    "Crie um programa de repetição que receba uma matriz de tamanho 5x5 e imprima a soma de cada linha."
   ]
  },
  {
   "cell_type": "code",
   "execution_count": 13,
   "id": "552d376c-1e60-46f6-a297-aa08af1589e4",
   "metadata": {},
   "outputs": [
    {
     "name": "stdout",
     "output_type": "stream",
     "text": [
      "[[82 73 78 52 31]\n",
      " [85 19 57 90 97]\n",
      " [65 76 50 89 66]\n",
      " [63 63  9 34 17]\n",
      " [89 23 48 72 24]]\n",
      "316\n",
      "348\n",
      "346\n",
      "186\n",
      "256\n"
     ]
    }
   ],
   "source": [
    "import random\n",
    "import numpy as np\n",
    "\n",
    "matrix = np.zeros((5,5), dtype=int)\n",
    "\n",
    "for x in range(0, 5):\n",
    "    for y in range(0, 5):\n",
    "        value = random.randint(0, 100)\n",
    "        matrix[x,y] = value\n",
    "\n",
    "print(matrix)\n",
    "for x in matrix:\n",
    "    print(np.sum(x))"
   ]
  },
  {
   "cell_type": "raw",
   "id": "f9286567-372b-4681-8482-39ac6ddefb35",
   "metadata": {},
   "source": [
    "Crie uma função que receba dois inteiros ent1 e ent2 . Essa função deve imprimir todos os textos quando a condição for atendida:\n",
    "-“ent1 - ent2 é negativo”, condição: caso ent1 menos ent2 seja menor que zero, \n",
    "-“ent1 * ent2 é negativo”, condição: caso ent1 multiplicado por ent2 seja menor que zero,\n",
    "-“ent1 + ent2 é negativo”, condição: caso ent1 somado a ent2 seja menor que zero."
   ]
  },
  {
   "cell_type": "code",
   "execution_count": 5,
   "id": "5b201d34-823b-4543-89f2-c466534f06b0",
   "metadata": {},
   "outputs": [
    {
     "name": "stdout",
     "output_type": "stream",
     "text": [
      "### Utilize S para sim ou N para não ###\n"
     ]
    },
    {
     "name": "stdin",
     "output_type": "stream",
     "text": [
      "Deseja Informar os valores use, s ou n:  s\n",
      "Informe o valor 1 -2\n",
      "Informe o valor 2 1\n"
     ]
    },
    {
     "name": "stdout",
     "output_type": "stream",
     "text": [
      "Valores informados: Valor 1: -2 e Valor 2: 1\n",
      "ent1 - ent2 é negativo\n",
      "ent1 * ent2 é negativo\n",
      "ent1 * ent2 é negativo\n"
     ]
    }
   ],
   "source": [
    "import random\n",
    "\n",
    "def questao3(ent1, ent2):\n",
    "    if (ent1 - ent2) < 0:\n",
    "        print(\"ent1 - ent2 é negativo\")\n",
    "    if (ent1 * ent2) < 0:\n",
    "        print(\"ent1 * ent2 é negativo\")\n",
    "    if (ent1 + ent2) < 0:\n",
    "        print(\"ent1 * ent2 é negativo\")\n",
    "\n",
    "print(\"### Utilize S para sim ou N para não ###\")\n",
    "valorEntrada = \"\"\n",
    "x = True\n",
    "while x:\n",
    "    valorEntrada = input(\"Deseja Informar os valores use, s ou n: \")\n",
    "    if (valorEntrada == 's' or valorEntrada == 'n'):\n",
    "        x = False\n",
    "    \n",
    "if (valorEntrada == 's'):\n",
    "    ent1 = int(input(\"Informe o valor 1\"))\n",
    "    ent2 = int(input(\"Informe o valor 2\"))\n",
    "else:    \n",
    "    ent1 = random.randint(-9, 9)\n",
    "    ent2 = random.randint(-9, 9)\n",
    "\n",
    "print(f'Valores informados: Valor 1: {ent1} e Valor 2: {ent2}')\n",
    "\n",
    "questao3(ent1, ent2)"
   ]
  },
  {
   "cell_type": "raw",
   "id": "4f06998f-743d-44c3-ac3c-70e6a8e03f8a",
   "metadata": {},
   "source": [
    "Crie uma função que receba um caractere, uma string e o tamanho da string, essa função deve substituir os caracteres pares da string pelo caractere informado como parâmetro de entrada e retornar a nova string gerada."
   ]
  },
  {
   "cell_type": "code",
   "execution_count": 10,
   "id": "82d8880b-f075-49fd-bc43-60bd15131f4b",
   "metadata": {},
   "outputs": [
    {
     "name": "stdout",
     "output_type": "stream",
     "text": [
      "*u*a* *e*P*t*o* *a*u*l* *e*t*\n"
     ]
    }
   ],
   "source": [
    "def altera_nos_pares(caracter, mensagem = \"\", qtd_caracter_mensagem = 0):    \n",
    "    mensagem_sifrada = \"\"\n",
    "    c = 0\n",
    "    while c < qtd_caracter_mensagem:\n",
    "        if (c % 2 == 0):        \n",
    "            mensagem_sifrada = mensagem_sifrada + caracter\n",
    "        else:\n",
    "            mensagem_sifrada = mensagem_sifrada + mensagem[c]\n",
    "        c += 1\n",
    "        \n",
    "    return mensagem_sifrada\n",
    "    \n",
    "mensagem = \"Aulas de Python daquele jeito\"\n",
    "nova_mensagem = altera_nos_pares(\"*\", mensagem, len(mensagem))\n",
    "print(nova_mensagem)"
   ]
  }
 ],
 "metadata": {
  "kernelspec": {
   "display_name": "Python 3 (ipykernel)",
   "language": "python",
   "name": "python3"
  },
  "language_info": {
   "codemirror_mode": {
    "name": "ipython",
    "version": 3
   },
   "file_extension": ".py",
   "mimetype": "text/x-python",
   "name": "python",
   "nbconvert_exporter": "python",
   "pygments_lexer": "ipython3",
   "version": "3.12.3"
  }
 },
 "nbformat": 4,
 "nbformat_minor": 5
}
