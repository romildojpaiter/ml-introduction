{
  "nbformat": 4,
  "nbformat_minor": 0,
  "metadata": {
    "colab": {
      "provenance": []
    },
    "kernelspec": {
      "name": "ir",
      "display_name": "R"
    },
    "language_info": {
      "name": "R"
    }
  },
  "cells": [
    {
      "cell_type": "markdown",
      "source": [
        "Faça um programa que leia um número do usuário e imprima “número digitado é\n",
        "par” se esse número é par ou “número digitado não é par” caso contrário."
      ],
      "metadata": {
        "id": "HkJp9cvQfBXM"
      }
    },
    {
      "cell_type": "code",
      "execution_count": null,
      "metadata": {
        "colab": {
          "base_uri": "https://localhost:8080/"
        },
        "id": "nZ7R0hBZtFfC",
        "outputId": "01abdc8b-61c7-4d26-8ed4-d65b995c601c"
      },
      "outputs": [
        {
          "output_type": "stream",
          "name": "stdout",
          "text": [
            "Digite a primeira nota: 5\n",
            "[1] 2\n",
            "[1] \"número digitado não é par\"\n"
          ]
        }
      ],
      "source": [
        "enterNota <- readline(prompt = \"Digite a primeira nota: \")\n",
        "nota <- as.numeric(enterNota)\n",
        "divider <- nota %/% 2\n",
        "\n",
        "\n",
        "if (divider == 0) {\n",
        "    print(\"número digitado é par\")\n",
        "} else {\n",
        "   print(\"número digitado não é par\")\n",
        "}"
      ]
    },
    {
      "cell_type": "markdown",
      "source": [
        "Faça um programa que receba dois números a e b, em seguida crie quatro\n",
        "variáveis, uma variável (soma) para armazenar a soma entre a e b, outra (mult)\n",
        "para armazenar a multiplicação entre a e b, uma (sub1) para a subtração entre a e\n",
        "b, e uma (sub2) para armazenar a subtração entre b e a. Em seguida, se a soma\n",
        "resultar em um número par, imprima “essa é uma soma par” e o valor da soma. Se a\n",
        "multiplicação for um número múltiplo de 3, imprima “a multiplicação resultou em um\n",
        "número múltiplo de 3” e o valor da multiplicação. Por fim, imprima a maior entre as\n",
        "variáveis sub1 e sub2."
      ],
      "metadata": {
        "id": "tnnYSe5bfPp9"
      }
    },
    {
      "cell_type": "code",
      "source": [
        "a <- 10\n",
        "b <- 5\n",
        "\n",
        "soma <- a + b\n",
        "mult <- a * b\n",
        "sub1 <- a - b\n",
        "sub2 <- b - a\n",
        "\n",
        "if (soma %% 2 == 0) {\n",
        "  print(paste(\"A soma é um número par:\", soma))\n",
        "}\n",
        "\n",
        "if (mult %% 3 == 0) {\n",
        "  print(paste(\"A multiplicação é um múltiplo de 3:\", mult))\n",
        "}\n",
        "\n",
        "if (sub1 > sub2) {\n",
        "  print(paste(\"A maior subtração é:\", sub1))\n",
        "} else {\n",
        "  print(paste(\"A maior subtração é:\", sub2))\n",
        "}\n"
      ],
      "metadata": {
        "id": "3hYU_gBAuAFm",
        "colab": {
          "base_uri": "https://localhost:8080/"
        },
        "outputId": "2f899769-4b9a-420b-81cc-c25afc51427f"
      },
      "execution_count": 1,
      "outputs": [
        {
          "output_type": "stream",
          "name": "stdout",
          "text": [
            "[1] \"A maior subtração é: 5\"\n"
          ]
        }
      ]
    },
    {
      "cell_type": "markdown",
      "source": [
        "Faça um programa que receba dois números a e b. Em seguida, some os dois\n",
        "números na variável, e crie um loop que execute enquanto a soma for maior que\n",
        "zero. Dentro do loop, caso a soma seja par subtraia 1 da variável a caso a soma\n",
        "seja ímpar subtraia 3 da variável b. Para cada execução do laço, imprima o valor da\n",
        "soma entre a e b após a alteração da variável."
      ],
      "metadata": {
        "id": "Ru6s6KRunqW7"
      }
    },
    {
      "cell_type": "markdown",
      "source": [],
      "metadata": {
        "id": "f1oIDPLZfPGM"
      }
    },
    {
      "cell_type": "code",
      "source": [
        "a <- 10\n",
        "b <- 5\n",
        "\n",
        "while (a + b > 0) {\n",
        "  soma <- a + b\n",
        "\n",
        "  if (soma %% 2 == 0) {\n",
        "    a <- a - 1\n",
        "  } else {\n",
        "    b <- b - 3\n",
        "  }\n",
        "\n",
        "  print(paste(\"Soma atual:\", soma))\n",
        "}\n"
      ],
      "metadata": {
        "colab": {
          "base_uri": "https://localhost:8080/"
        },
        "id": "UR8v4yHUfOs4",
        "outputId": "ca24d83b-4987-4557-ca4b-b50363072c37"
      },
      "execution_count": 2,
      "outputs": [
        {
          "output_type": "stream",
          "name": "stdout",
          "text": [
            "[1] \"Soma atual: 15\"\n",
            "[1] \"Soma atual: 12\"\n",
            "[1] \"Soma atual: 11\"\n",
            "[1] \"Soma atual: 8\"\n",
            "[1] \"Soma atual: 7\"\n",
            "[1] \"Soma atual: 4\"\n",
            "[1] \"Soma atual: 3\"\n"
          ]
        }
      ]
    },
    {
      "cell_type": "markdown",
      "source": [
        "Crie uma função que receba um vetor, e em seguida some os números pares desse\n",
        "vetor em uma variável (par) e os ímpares em outra variável (imp). Essa função deve\n",
        "retornar a multiplicação das variáveis par e imp."
      ],
      "metadata": {
        "id": "JQs14v0upMbh"
      }
    },
    {
      "cell_type": "code",
      "source": [
        "par_imp <- function(vetor) {\n",
        "  par <- 0\n",
        "  imp <- 0\n",
        "  for (i in 1:length(vetor)) {\n",
        "    if (vetor[i] %% 2 == 0) {\n",
        "      par <- par + vetor[i]\n",
        "    } else {\n",
        "      imp <- imp + vetor[i]\n",
        "    }\n",
        "  }\n",
        "  return(paste(\"Multiplicacao Par e Impar:\", par * imp))\n",
        "}\n",
        "\n",
        "par_imp(c(10, 11, 12, 13, 14, 15))\n"
      ],
      "metadata": {
        "colab": {
          "base_uri": "https://localhost:8080/",
          "height": 34
        },
        "id": "srOnXHMspQJJ",
        "outputId": "60df8b2d-563a-4cee-b32b-ef78d8f0409f"
      },
      "execution_count": 4,
      "outputs": [
        {
          "output_type": "display_data",
          "data": {
            "text/html": [
              "'Multiplicacao Par e Impar: 1404'"
            ],
            "text/markdown": "'Multiplicacao Par e Impar: 1404'",
            "text/latex": "'Multiplicacao Par e Impar: 1404'",
            "text/plain": [
              "[1] \"Multiplicacao Par e Impar: 1404\""
            ]
          },
          "metadata": {}
        }
      ]
    }
  ]
}