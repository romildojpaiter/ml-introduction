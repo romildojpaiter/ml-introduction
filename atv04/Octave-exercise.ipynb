{
 "cells": [
  {
   "cell_type": "raw",
   "id": "90835368-927e-4618-aaf3-c12128908e5c",
   "metadata": {},
   "source": [
    "Crie uma função que receba uma string e impra essa string ao contrário. Por exemplo, caso a string recebida pela função seja “casa” a função deve imprimir “asac”."
   ]
  },
  {
   "cell_type": "code",
   "execution_count": null,
   "id": "71f6a877-e234-4f80-b3c4-b36d5cd21074",
   "metadata": {},
   "outputs": [],
   "source": [
    "octave:5> function revert(value)\n",
    "  disp(fliplr(value))\n",
    "endfunction"
   ]
  },
  {
   "cell_type": "code",
   "execution_count": null,
   "id": "83e01f8f-7c85-4ee2-91c3-90feac58b32e",
   "metadata": {},
   "outputs": [],
   "source": [
    "octave:6> revert('octave')"
   ]
  },
  {
   "cell_type": "code",
   "execution_count": null,
   "id": "ee28c046-05c1-4fbe-89e4-efe890dc0981",
   "metadata": {},
   "outputs": [],
   "source": [
    "evatco"
   ]
  },
  {
   "cell_type": "raw",
   "id": "0c56500a-0543-43e8-ba5d-6fa7cce2eb9c",
   "metadata": {},
   "source": [
    "Crie uma função que receba uma string e retorne verdadeiro caso essa string seja um palíndromo, e falso caso contrário. \n",
    "Uma string é um palíndromo quando sua inversão resulta na própria string, por exemplo “ovo” invertida é “ovo”, \n",
    "um palíndromo, enquanto “casa” invertida seria “asac” o que não é um palíndromo."
   ]
  },
  {
   "cell_type": "code",
   "execution_count": null,
   "id": "23466202-b229-4d02-b64e-2bffed9fe786",
   "metadata": {},
   "outputs": [],
   "source": [
    "octave:8> function result = palindrono(value)\n",
    "  val = strcmp(fliplr(value), value)\n",
    "  if val == 1\n",
    "    result = 'verdadeiro'\n",
    "  else\n",
    "    result = 'falso'\n",
    "  endif\n",
    "endfunction"
   ]
  },
  {
   "cell_type": "code",
   "execution_count": null,
   "id": "b676a346-436c-4869-9ae7-5a50a80c6bdd",
   "metadata": {},
   "outputs": [],
   "source": [
    "octave:10> palindrono('ovo')\n",
    "val = 1\n",
    "result = verdadeiro\n",
    "ans = verdadeiro"
   ]
  },
  {
   "cell_type": "raw",
   "id": "f7fd54bf-2156-457a-a74c-4bf2b44bf3f4",
   "metadata": {},
   "source": [
    "Crie uma função que receba uma string com o nome de um arquivo. Essa função deve abrir esse arquivo \n",
    "e contar o número de caracteres nesse arquivo. O retorno deve ser o número de caracteres contados."
   ]
  },
  {
   "cell_type": "code",
   "execution_count": null,
   "id": "7713b288-79c5-4772-8552-1be781aea817",
   "metadata": {},
   "outputs": [],
   "source": [
    "octave:22> function num_caracteres = contar_caracteres(nome_arquivo)\n",
    "  fid = fopen(nome_arquivo, 'r'); % Abre o arquivo ('r')\n",
    "  if fid == -1\n",
    "    error('Erro ao abrir o arquivo.');\n",
    "  end\n",
    "\n",
    "  % Converte em uma string \n",
    "  conteudo = fread(fid, '*char'); \n",
    "  fclose(fid); % Fechar o arquivo\n",
    "\n",
    "  num_caracteres = numel(conteudo); % Contar caracteres\n",
    "end"
   ]
  },
  {
   "cell_type": "code",
   "execution_count": null,
   "id": "db18300b-4cad-4e41-a716-3d370350c244",
   "metadata": {},
   "outputs": [],
   "source": [
    "octave:28> nome_do_arquivo = 'exemplo.txt';\n",
    "num_caracteres = contar_caracteres(nome_do_arquivo);\n",
    "disp(['O número de caracteres no arquivo ', nome_do_arquivo, ' é: ', num2str(num_caracteres)]);\n",
    "O número de caracteres no arquivo , exemplo.txt, é: 5"
   ]
  },
  {
   "cell_type": "raw",
   "id": "e56d2ff5-1536-4260-acf3-39fed82d055c",
   "metadata": {},
   "source": [
    "Crie uma função que receba uma string com o nome de um arquivo, e um caractere. Essa função deve abrir o arquivo, e contar quantas vezes o caractere passado por parâmetro se repete no texto e qual a porcentagem em relação ao total de caracteres. A função deve imprimir o caractere seguido do número de repetição e sua porcentagem."
   ]
  },
  {
   "cell_type": "code",
   "execution_count": null,
   "id": "8b19bb57-544e-466c-8074-80f7f874f2b9",
   "metadata": {},
   "outputs": [],
   "source": [
    "octave:1> function contar_e_mostrar_porcentagem(nome_arquivo, caractere)\n",
    "    % Abrir o arquivo para leitura\n",
    "    fid = fopen(nome_arquivo, 'r');\n",
    "    if fid == -1\n",
    "        error('Erro ao abrir o arquivo.');\n",
    "    end\n",
    "    \n",
    "    % Ler o conteúdo do arquivo em uma string\n",
    "    texto = fscanf(fid, '%c', inf);\n",
    "\n",
    "    % Fechar o arquivo\n",
    "    fclose(fid); \n",
    "    \n",
    "    % Contar o número de vezes que o caractere aparece no texto\n",
    "    num_ocorrencias = sum(texto == caractere);\n",
    "    \n",
    "    % Porcentagem em relação ao total de caracteres\n",
    "    total_caracteres = numel(texto);\n",
    "    porcentagem = (num_ocorrencias / total_caracteres) * 100;\n",
    "    \n",
    "    % Resultado\n",
    "    fprintf('O caractere ''%s'' aparece %d vezes no texto.\\n', caractere, num_ocorrencias);\n",
    "    fprintf('Isso representa %.2f%% do total de caracteres.\\n', porcentagem);\n",
    "end"
   ]
  },
  {
   "cell_type": "code",
   "execution_count": null,
   "id": "ab008bb7-77a7-4d6e-b710-e1de1e2c44d8",
   "metadata": {},
   "outputs": [],
   "source": [
    "octave:5> nome_do_arquivo = 'exemplo.txt';\n",
    "caractere = 'l';\n",
    "contar_e_mostrar_porcentagem(nome_do_arquivo, caractere);\n",
    "O caractere 'l' aparece 2 vezes no texto.\n",
    "Isso representa 40.00% do total de caracteres."
   ]
  },
  {
   "cell_type": "code",
   "execution_count": null,
   "id": "7c84731a-9ecb-4b31-8ca9-4bc48f5fc4e8",
   "metadata": {},
   "outputs": [],
   "source": [
    "#exemplo.txt\n",
    "hello"
   ]
  }
 ],
 "metadata": {
  "kernelspec": {
   "display_name": "Python 3 (ipykernel)",
   "language": "python",
   "name": "python3"
  },
  "language_info": {
   "codemirror_mode": {
    "name": "ipython",
    "version": 3
   },
   "file_extension": ".py",
   "mimetype": "text/x-python",
   "name": "python",
   "nbconvert_exporter": "python",
   "pygments_lexer": "ipython3",
   "version": "3.12.3"
  }
 },
 "nbformat": 4,
 "nbformat_minor": 5
}
