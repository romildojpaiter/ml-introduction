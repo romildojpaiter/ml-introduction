{
 "cells": [
  {
   "cell_type": "code",
   "execution_count": 1,
   "id": "3c42c31a-55aa-44ef-b327-194ab7dd0dfe",
   "metadata": {},
   "outputs": [],
   "source": [
    "import pandas as pd\n",
    "\n",
    "df = pd.read_csv('buscas.csv')"
   ]
  },
  {
   "cell_type": "code",
   "execution_count": 2,
   "id": "b5d14321-5070-4ab3-9e5b-d6a69fb7b2e7",
   "metadata": {},
   "outputs": [
    {
     "data": {
      "text/html": [
       "<div>\n",
       "<style scoped>\n",
       "    .dataframe tbody tr th:only-of-type {\n",
       "        vertical-align: middle;\n",
       "    }\n",
       "\n",
       "    .dataframe tbody tr th {\n",
       "        vertical-align: top;\n",
       "    }\n",
       "\n",
       "    .dataframe thead th {\n",
       "        text-align: right;\n",
       "    }\n",
       "</style>\n",
       "<table border=\"1\" class=\"dataframe\">\n",
       "  <thead>\n",
       "    <tr style=\"text-align: right;\">\n",
       "      <th></th>\n",
       "      <th>home</th>\n",
       "      <th>busca</th>\n",
       "      <th>logado</th>\n",
       "      <th>comprou</th>\n",
       "    </tr>\n",
       "  </thead>\n",
       "  <tbody>\n",
       "    <tr>\n",
       "      <th>0</th>\n",
       "      <td>0</td>\n",
       "      <td>algoritmos</td>\n",
       "      <td>1</td>\n",
       "      <td>1</td>\n",
       "    </tr>\n",
       "    <tr>\n",
       "      <th>1</th>\n",
       "      <td>0</td>\n",
       "      <td>java</td>\n",
       "      <td>0</td>\n",
       "      <td>1</td>\n",
       "    </tr>\n",
       "    <tr>\n",
       "      <th>2</th>\n",
       "      <td>1</td>\n",
       "      <td>algoritmos</td>\n",
       "      <td>0</td>\n",
       "      <td>1</td>\n",
       "    </tr>\n",
       "    <tr>\n",
       "      <th>3</th>\n",
       "      <td>1</td>\n",
       "      <td>ruby</td>\n",
       "      <td>1</td>\n",
       "      <td>0</td>\n",
       "    </tr>\n",
       "    <tr>\n",
       "      <th>4</th>\n",
       "      <td>1</td>\n",
       "      <td>ruby</td>\n",
       "      <td>0</td>\n",
       "      <td>1</td>\n",
       "    </tr>\n",
       "    <tr>\n",
       "      <th>...</th>\n",
       "      <td>...</td>\n",
       "      <td>...</td>\n",
       "      <td>...</td>\n",
       "      <td>...</td>\n",
       "    </tr>\n",
       "    <tr>\n",
       "      <th>995</th>\n",
       "      <td>0</td>\n",
       "      <td>ruby</td>\n",
       "      <td>0</td>\n",
       "      <td>0</td>\n",
       "    </tr>\n",
       "    <tr>\n",
       "      <th>996</th>\n",
       "      <td>0</td>\n",
       "      <td>ruby</td>\n",
       "      <td>0</td>\n",
       "      <td>1</td>\n",
       "    </tr>\n",
       "    <tr>\n",
       "      <th>997</th>\n",
       "      <td>0</td>\n",
       "      <td>java</td>\n",
       "      <td>1</td>\n",
       "      <td>1</td>\n",
       "    </tr>\n",
       "    <tr>\n",
       "      <th>998</th>\n",
       "      <td>1</td>\n",
       "      <td>algoritmos</td>\n",
       "      <td>0</td>\n",
       "      <td>1</td>\n",
       "    </tr>\n",
       "    <tr>\n",
       "      <th>999</th>\n",
       "      <td>0</td>\n",
       "      <td>ruby</td>\n",
       "      <td>1</td>\n",
       "      <td>0</td>\n",
       "    </tr>\n",
       "  </tbody>\n",
       "</table>\n",
       "<p>1000 rows × 4 columns</p>\n",
       "</div>"
      ],
      "text/plain": [
       "     home       busca  logado  comprou\n",
       "0       0  algoritmos       1        1\n",
       "1       0        java       0        1\n",
       "2       1  algoritmos       0        1\n",
       "3       1        ruby       1        0\n",
       "4       1        ruby       0        1\n",
       "..    ...         ...     ...      ...\n",
       "995     0        ruby       0        0\n",
       "996     0        ruby       0        1\n",
       "997     0        java       1        1\n",
       "998     1  algoritmos       0        1\n",
       "999     0        ruby       1        0\n",
       "\n",
       "[1000 rows x 4 columns]"
      ]
     },
     "execution_count": 2,
     "metadata": {},
     "output_type": "execute_result"
    }
   ],
   "source": [
    "df"
   ]
  },
  {
   "cell_type": "code",
   "execution_count": 6,
   "id": "0c23b1c6-93c5-4a3c-9f19-d853fb03ddd0",
   "metadata": {},
   "outputs": [],
   "source": [
    "X_df = df[['home', 'busca', 'logado']]\n",
    "Y_df = df['comprou']\n",
    "\n",
    "Xdummies_df = pd.get_dummies(X_df)\n",
    "Ydummies_df = Y_df\n",
    "\n",
    "X = Xdummies_df.values\n",
    "Y = Ydummies_df.values"
   ]
  },
  {
   "cell_type": "code",
   "execution_count": 13,
   "id": "dc675adb-6599-4c7b-b9b2-7cfb959f698f",
   "metadata": {},
   "outputs": [
    {
     "name": "stdout",
     "output_type": "stream",
     "text": [
      "Taxa de acerto base: 832\n"
     ]
    }
   ],
   "source": [
    "# restante do código\n",
    "# a eficácia do algoritmo que chuta tudo 0 ou 1\n",
    "acerto_de_um = sum(Y)\n",
    "acerto_de_zero = len(Y) - acerto_de_um\n",
    "\n",
    "taxa_de_acerto_base = max(acerto_de_um, acerto_de_zero)\n",
    "\n",
    "taxa_de_acerto_base = max(acerto_de_um, acerto_de_zero)"
   ]
  },
  {
   "cell_type": "code",
   "execution_count": 16,
   "id": "050e2a5e-33b7-46d4-877e-448b06571d11",
   "metadata": {},
   "outputs": [],
   "source": [
    "# restante do código\n",
    "taxa_de_acerto_base = 100.0 * max(acerto_de_um, acerto_de_zero) / len(Y)"
   ]
  },
  {
   "cell_type": "code",
   "execution_count": 18,
   "id": "d80c38dc-0868-4799-996e-9d7e7d30c77f",
   "metadata": {},
   "outputs": [
    {
     "name": "stdout",
     "output_type": "stream",
     "text": [
      "Taxa de acerto base: 83\n"
     ]
    }
   ],
   "source": [
    "print(\"Taxa de acerto base: %d\" % taxa_de_acerto_base)"
   ]
  },
  {
   "cell_type": "code",
   "execution_count": 20,
   "id": "a342fc31-04ab-4ced-9a14-2d7617ce20f5",
   "metadata": {},
   "outputs": [
    {
     "name": "stdout",
     "output_type": "stream",
     "text": [
      "Taxa de acerto base: 83.200000\n"
     ]
    }
   ],
   "source": [
    "acerto_de_um = sum(Y)\n",
    "acerto_de_zero = len(Y) - acerto_de_um\n",
    "taxa_de_acerto_base = 100.0 * max(acerto_de_um, acerto_de_zero) / len(Y)\n",
    "print(\"Taxa de acerto base: %f\" % taxa_de_acerto_base)\n"
   ]
  },
  {
   "cell_type": "code",
   "execution_count": 21,
   "id": "464429e2-2ff3-431b-bc80-cf10779d959f",
   "metadata": {},
   "outputs": [],
   "source": [
    "# restante do código\n",
    "acerto_de_um = len(Y[Y==1])\n",
    "acerto_de_zero = len(Y[Y==0])"
   ]
  },
  {
   "cell_type": "code",
   "execution_count": 23,
   "id": "328068ae-a4a3-4a11-95b4-060a3e166e07",
   "metadata": {},
   "outputs": [
    {
     "data": {
      "text/plain": [
       "array([ True,  True,  True, False,  True, False,  True,  True,  True,\n",
       "        True,  True, False,  True,  True,  True,  True,  True,  True,\n",
       "        True,  True,  True,  True,  True,  True, False,  True, False,\n",
       "       False,  True,  True,  True,  True, False, False,  True, False,\n",
       "        True,  True,  True,  True,  True,  True,  True, False,  True,\n",
       "        True,  True,  True,  True,  True, False,  True,  True,  True,\n",
       "        True,  True,  True,  True,  True,  True, False,  True,  True,\n",
       "        True, False,  True, False,  True, False,  True,  True,  True,\n",
       "        True,  True,  True, False,  True,  True,  True,  True,  True,\n",
       "        True, False,  True, False, False,  True,  True,  True, False,\n",
       "        True,  True,  True,  True, False,  True,  True,  True,  True,\n",
       "        True,  True,  True,  True, False,  True,  True,  True, False,\n",
       "       False,  True,  True,  True,  True,  True,  True,  True,  True,\n",
       "        True,  True, False,  True,  True,  True, False,  True,  True,\n",
       "       False, False,  True,  True,  True,  True,  True,  True,  True,\n",
       "        True,  True,  True,  True,  True, False, False, False, False,\n",
       "        True,  True,  True,  True, False, False,  True,  True,  True,\n",
       "        True,  True,  True,  True,  True,  True,  True,  True,  True,\n",
       "        True,  True, False,  True, False,  True,  True,  True,  True,\n",
       "        True,  True,  True,  True,  True,  True,  True,  True,  True,\n",
       "        True,  True, False,  True, False,  True, False, False,  True,\n",
       "       False,  True,  True,  True,  True, False,  True,  True,  True,\n",
       "        True, False,  True, False, False,  True,  True,  True,  True,\n",
       "        True,  True,  True,  True, False,  True,  True,  True,  True,\n",
       "        True,  True,  True,  True, False,  True,  True,  True,  True,\n",
       "        True,  True,  True,  True,  True,  True,  True,  True,  True,\n",
       "        True,  True,  True,  True,  True,  True,  True,  True,  True,\n",
       "        True,  True,  True,  True, False,  True,  True,  True,  True,\n",
       "        True,  True,  True,  True,  True,  True, False, False,  True,\n",
       "        True, False,  True,  True,  True, False,  True,  True,  True,\n",
       "        True,  True,  True,  True,  True, False,  True, False,  True,\n",
       "        True, False,  True, False,  True,  True, False, False,  True,\n",
       "       False,  True,  True, False,  True,  True,  True,  True,  True,\n",
       "       False, False,  True,  True,  True,  True, False, False,  True,\n",
       "        True, False, False,  True,  True,  True, False,  True,  True,\n",
       "        True,  True,  True,  True,  True,  True,  True,  True,  True,\n",
       "       False,  True,  True,  True,  True,  True,  True, False, False,\n",
       "        True,  True,  True,  True,  True,  True, False,  True, False,\n",
       "        True, False,  True,  True,  True,  True,  True,  True,  True,\n",
       "        True,  True,  True,  True,  True,  True,  True,  True,  True,\n",
       "        True,  True,  True,  True,  True, False, False,  True,  True,\n",
       "        True,  True,  True,  True,  True,  True,  True,  True,  True,\n",
       "        True,  True,  True, False,  True,  True,  True, False,  True,\n",
       "        True,  True,  True, False,  True,  True, False,  True,  True,\n",
       "        True,  True,  True,  True, False, False,  True,  True,  True,\n",
       "        True,  True, False,  True,  True,  True,  True,  True,  True,\n",
       "        True,  True,  True,  True, False,  True,  True,  True,  True,\n",
       "        True,  True,  True,  True,  True,  True,  True,  True, False,\n",
       "        True, False,  True,  True,  True,  True,  True,  True,  True,\n",
       "        True,  True,  True, False,  True,  True,  True,  True,  True,\n",
       "        True,  True,  True,  True,  True,  True, False,  True,  True,\n",
       "        True,  True,  True,  True,  True,  True,  True,  True,  True,\n",
       "        True,  True,  True, False,  True,  True,  True,  True,  True,\n",
       "       False,  True,  True,  True,  True,  True,  True,  True,  True,\n",
       "        True,  True,  True,  True,  True,  True,  True,  True,  True,\n",
       "        True,  True,  True,  True,  True,  True,  True, False,  True,\n",
       "        True,  True,  True,  True, False,  True,  True,  True,  True,\n",
       "        True,  True, False,  True,  True, False,  True,  True,  True,\n",
       "        True,  True,  True,  True,  True, False,  True,  True,  True,\n",
       "        True,  True,  True, False,  True,  True,  True, False,  True,\n",
       "        True, False,  True,  True,  True,  True, False,  True,  True,\n",
       "       False,  True,  True,  True, False,  True,  True,  True, False,\n",
       "        True,  True,  True,  True,  True,  True,  True,  True,  True,\n",
       "        True,  True, False, False,  True,  True,  True,  True,  True,\n",
       "        True,  True,  True,  True,  True,  True,  True,  True,  True,\n",
       "       False,  True,  True,  True,  True,  True,  True,  True,  True,\n",
       "        True,  True,  True,  True,  True, False, False,  True,  True,\n",
       "        True,  True,  True,  True, False,  True, False,  True,  True,\n",
       "        True,  True,  True,  True,  True, False,  True,  True,  True,\n",
       "        True,  True,  True,  True,  True,  True, False,  True,  True,\n",
       "        True,  True,  True,  True,  True,  True,  True,  True, False,\n",
       "        True,  True,  True,  True,  True,  True,  True,  True,  True,\n",
       "        True,  True,  True,  True,  True,  True,  True,  True,  True,\n",
       "        True,  True, False, False,  True, False, False,  True,  True,\n",
       "        True,  True,  True,  True,  True,  True,  True,  True,  True,\n",
       "        True,  True,  True,  True,  True,  True,  True,  True,  True,\n",
       "        True,  True,  True,  True, False,  True,  True,  True, False,\n",
       "       False,  True,  True, False,  True,  True,  True,  True,  True,\n",
       "        True,  True, False,  True,  True,  True,  True,  True,  True,\n",
       "       False,  True,  True,  True,  True,  True,  True, False,  True,\n",
       "        True,  True,  True,  True, False, False,  True,  True,  True,\n",
       "        True,  True,  True,  True,  True,  True,  True, False,  True,\n",
       "       False,  True,  True,  True,  True,  True,  True,  True, False,\n",
       "        True,  True,  True,  True,  True,  True, False, False,  True,\n",
       "        True,  True,  True,  True,  True,  True,  True,  True,  True,\n",
       "        True,  True,  True,  True,  True,  True, False,  True,  True,\n",
       "        True,  True,  True,  True,  True,  True,  True,  True,  True,\n",
       "        True,  True,  True,  True, False,  True, False,  True,  True,\n",
       "        True,  True,  True,  True,  True,  True,  True,  True, False,\n",
       "        True,  True,  True,  True,  True,  True,  True, False, False,\n",
       "        True,  True, False, False, False,  True,  True,  True,  True,\n",
       "       False,  True, False, False,  True,  True,  True, False,  True,\n",
       "        True,  True,  True,  True,  True,  True,  True,  True,  True,\n",
       "        True, False,  True,  True,  True,  True,  True,  True, False,\n",
       "       False,  True,  True,  True,  True,  True,  True,  True, False,\n",
       "       False,  True,  True,  True,  True,  True,  True,  True,  True,\n",
       "        True,  True,  True,  True,  True,  True,  True,  True,  True,\n",
       "        True,  True,  True,  True,  True,  True,  True,  True, False,\n",
       "        True,  True,  True,  True, False,  True,  True,  True, False,\n",
       "        True,  True,  True,  True,  True,  True,  True,  True,  True,\n",
       "        True,  True,  True,  True,  True,  True,  True,  True,  True,\n",
       "        True,  True,  True,  True,  True,  True, False,  True,  True,\n",
       "        True, False,  True,  True,  True,  True,  True,  True,  True,\n",
       "        True,  True,  True, False, False, False,  True,  True, False,\n",
       "        True,  True,  True, False,  True,  True,  True,  True,  True,\n",
       "        True,  True,  True,  True,  True,  True,  True,  True,  True,\n",
       "        True,  True,  True,  True,  True,  True,  True,  True,  True,\n",
       "        True,  True,  True,  True,  True,  True,  True,  True,  True,\n",
       "        True, False,  True,  True, False, False, False,  True, False,\n",
       "       False,  True,  True,  True, False,  True,  True,  True,  True,\n",
       "        True,  True, False,  True, False, False,  True,  True,  True,\n",
       "       False])"
      ]
     },
     "execution_count": 23,
     "metadata": {},
     "output_type": "execute_result"
    }
   ],
   "source": [
    "Y==1"
   ]
  },
  {
   "cell_type": "code",
   "execution_count": 24,
   "id": "4c3345e7-c272-4d6c-9c6c-89ad82ba014f",
   "metadata": {},
   "outputs": [
    {
     "data": {
      "text/plain": [
       "array([False, False, False,  True, False,  True, False, False, False,\n",
       "       False, False,  True, False, False, False, False, False, False,\n",
       "       False, False, False, False, False, False,  True, False,  True,\n",
       "        True, False, False, False, False,  True,  True, False,  True,\n",
       "       False, False, False, False, False, False, False,  True, False,\n",
       "       False, False, False, False, False,  True, False, False, False,\n",
       "       False, False, False, False, False, False,  True, False, False,\n",
       "       False,  True, False,  True, False,  True, False, False, False,\n",
       "       False, False, False,  True, False, False, False, False, False,\n",
       "       False,  True, False,  True,  True, False, False, False,  True,\n",
       "       False, False, False, False,  True, False, False, False, False,\n",
       "       False, False, False, False,  True, False, False, False,  True,\n",
       "        True, False, False, False, False, False, False, False, False,\n",
       "       False, False,  True, False, False, False,  True, False, False,\n",
       "        True,  True, False, False, False, False, False, False, False,\n",
       "       False, False, False, False, False,  True,  True,  True,  True,\n",
       "       False, False, False, False,  True,  True, False, False, False,\n",
       "       False, False, False, False, False, False, False, False, False,\n",
       "       False, False,  True, False,  True, False, False, False, False,\n",
       "       False, False, False, False, False, False, False, False, False,\n",
       "       False, False,  True, False,  True, False,  True,  True, False,\n",
       "        True, False, False, False, False,  True, False, False, False,\n",
       "       False,  True, False,  True,  True, False, False, False, False,\n",
       "       False, False, False, False,  True, False, False, False, False,\n",
       "       False, False, False, False,  True, False, False, False, False,\n",
       "       False, False, False, False, False, False, False, False, False,\n",
       "       False, False, False, False, False, False, False, False, False,\n",
       "       False, False, False, False,  True, False, False, False, False,\n",
       "       False, False, False, False, False, False,  True,  True, False,\n",
       "       False,  True, False, False, False,  True, False, False, False,\n",
       "       False, False, False, False, False,  True, False,  True, False,\n",
       "       False,  True, False,  True, False, False,  True,  True, False,\n",
       "        True, False, False,  True, False, False, False, False, False,\n",
       "        True,  True, False, False, False, False,  True,  True, False,\n",
       "       False,  True,  True, False, False, False,  True, False, False,\n",
       "       False, False, False, False, False, False, False, False, False,\n",
       "        True, False, False, False, False, False, False,  True,  True,\n",
       "       False, False, False, False, False, False,  True, False,  True,\n",
       "       False,  True, False, False, False, False, False, False, False,\n",
       "       False, False, False, False, False, False, False, False, False,\n",
       "       False, False, False, False, False,  True,  True, False, False,\n",
       "       False, False, False, False, False, False, False, False, False,\n",
       "       False, False, False,  True, False, False, False,  True, False,\n",
       "       False, False, False,  True, False, False,  True, False, False,\n",
       "       False, False, False, False,  True,  True, False, False, False,\n",
       "       False, False,  True, False, False, False, False, False, False,\n",
       "       False, False, False, False,  True, False, False, False, False,\n",
       "       False, False, False, False, False, False, False, False,  True,\n",
       "       False,  True, False, False, False, False, False, False, False,\n",
       "       False, False, False,  True, False, False, False, False, False,\n",
       "       False, False, False, False, False, False,  True, False, False,\n",
       "       False, False, False, False, False, False, False, False, False,\n",
       "       False, False, False,  True, False, False, False, False, False,\n",
       "        True, False, False, False, False, False, False, False, False,\n",
       "       False, False, False, False, False, False, False, False, False,\n",
       "       False, False, False, False, False, False, False,  True, False,\n",
       "       False, False, False, False,  True, False, False, False, False,\n",
       "       False, False,  True, False, False,  True, False, False, False,\n",
       "       False, False, False, False, False,  True, False, False, False,\n",
       "       False, False, False,  True, False, False, False,  True, False,\n",
       "       False,  True, False, False, False, False,  True, False, False,\n",
       "        True, False, False, False,  True, False, False, False,  True,\n",
       "       False, False, False, False, False, False, False, False, False,\n",
       "       False, False,  True,  True, False, False, False, False, False,\n",
       "       False, False, False, False, False, False, False, False, False,\n",
       "        True, False, False, False, False, False, False, False, False,\n",
       "       False, False, False, False, False,  True,  True, False, False,\n",
       "       False, False, False, False,  True, False,  True, False, False,\n",
       "       False, False, False, False, False,  True, False, False, False,\n",
       "       False, False, False, False, False, False,  True, False, False,\n",
       "       False, False, False, False, False, False, False, False,  True,\n",
       "       False, False, False, False, False, False, False, False, False,\n",
       "       False, False, False, False, False, False, False, False, False,\n",
       "       False, False,  True,  True, False,  True,  True, False, False,\n",
       "       False, False, False, False, False, False, False, False, False,\n",
       "       False, False, False, False, False, False, False, False, False,\n",
       "       False, False, False, False,  True, False, False, False,  True,\n",
       "        True, False, False,  True, False, False, False, False, False,\n",
       "       False, False,  True, False, False, False, False, False, False,\n",
       "        True, False, False, False, False, False, False,  True, False,\n",
       "       False, False, False, False,  True,  True, False, False, False,\n",
       "       False, False, False, False, False, False, False,  True, False,\n",
       "        True, False, False, False, False, False, False, False,  True,\n",
       "       False, False, False, False, False, False,  True,  True, False,\n",
       "       False, False, False, False, False, False, False, False, False,\n",
       "       False, False, False, False, False, False,  True, False, False,\n",
       "       False, False, False, False, False, False, False, False, False,\n",
       "       False, False, False, False,  True, False,  True, False, False,\n",
       "       False, False, False, False, False, False, False, False,  True,\n",
       "       False, False, False, False, False, False, False,  True,  True,\n",
       "       False, False,  True,  True,  True, False, False, False, False,\n",
       "        True, False,  True,  True, False, False, False,  True, False,\n",
       "       False, False, False, False, False, False, False, False, False,\n",
       "       False,  True, False, False, False, False, False, False,  True,\n",
       "        True, False, False, False, False, False, False, False,  True,\n",
       "        True, False, False, False, False, False, False, False, False,\n",
       "       False, False, False, False, False, False, False, False, False,\n",
       "       False, False, False, False, False, False, False, False,  True,\n",
       "       False, False, False, False,  True, False, False, False,  True,\n",
       "       False, False, False, False, False, False, False, False, False,\n",
       "       False, False, False, False, False, False, False, False, False,\n",
       "       False, False, False, False, False, False,  True, False, False,\n",
       "       False,  True, False, False, False, False, False, False, False,\n",
       "       False, False, False,  True,  True,  True, False, False,  True,\n",
       "       False, False, False,  True, False, False, False, False, False,\n",
       "       False, False, False, False, False, False, False, False, False,\n",
       "       False, False, False, False, False, False, False, False, False,\n",
       "       False, False, False, False, False, False, False, False, False,\n",
       "       False,  True, False, False,  True,  True,  True, False,  True,\n",
       "        True, False, False, False,  True, False, False, False, False,\n",
       "       False, False,  True, False,  True,  True, False, False, False,\n",
       "        True])"
      ]
     },
     "execution_count": 24,
     "metadata": {},
     "output_type": "execute_result"
    }
   ],
   "source": [
    "Y==0"
   ]
  },
  {
   "cell_type": "code",
   "execution_count": 25,
   "id": "6393f6fa-91c7-4ab9-ad8e-0741d5362602",
   "metadata": {},
   "outputs": [
    {
     "data": {
      "text/plain": [
       "832"
      ]
     },
     "execution_count": 25,
     "metadata": {},
     "output_type": "execute_result"
    }
   ],
   "source": [
    "len(Y[Y==1])"
   ]
  },
  {
   "cell_type": "code",
   "execution_count": 26,
   "id": "55f60660-3c8e-4cc8-94a8-21fea2675979",
   "metadata": {},
   "outputs": [
    {
     "data": {
      "text/plain": [
       "168"
      ]
     },
     "execution_count": 26,
     "metadata": {},
     "output_type": "execute_result"
    }
   ],
   "source": [
    "len(Y[Y==0])"
   ]
  },
  {
   "cell_type": "code",
   "execution_count": null,
   "id": "aac3d248-0708-4953-a9f8-f10d683a9f8a",
   "metadata": {},
   "outputs": [],
   "source": [
    "# restante do código\n",
    "acerto_de_um = len(Y[Y==1])\n",
    "acerto_de_zero = len(Y[Y==0])"
   ]
  },
  {
   "cell_type": "code",
   "execution_count": 27,
   "id": "2d1b7a7c-a32f-4897-afb4-153e69795695",
   "metadata": {},
   "outputs": [
    {
     "data": {
      "text/plain": [
       "array([[1, 1, False, False, True],\n",
       "       [0, 1, False, False, True],\n",
       "       [1, 1, False, False, True],\n",
       "       [1, 0, False, False, True],\n",
       "       [0, 1, False, False, True],\n",
       "       [0, 1, False, False, True],\n",
       "       [0, 0, False, False, True],\n",
       "       [1, 0, True, False, False],\n",
       "       [1, 1, False, False, True],\n",
       "       [0, 0, False, False, True],\n",
       "       [1, 0, False, False, True],\n",
       "       [1, 0, False, False, True],\n",
       "       [1, 0, False, False, True],\n",
       "       [0, 0, False, False, True],\n",
       "       [1, 0, False, False, True],\n",
       "       [1, 1, False, False, True],\n",
       "       [1, 0, False, False, True],\n",
       "       [1, 0, True, False, False],\n",
       "       [1, 0, False, False, True],\n",
       "       [1, 1, False, False, True],\n",
       "       [1, 0, True, False, False],\n",
       "       [1, 0, True, False, False],\n",
       "       [1, 0, False, False, True],\n",
       "       [0, 0, False, False, True],\n",
       "       [0, 0, True, False, False],\n",
       "       [1, 1, False, False, True],\n",
       "       [1, 1, False, False, True],\n",
       "       [0, 0, False, False, True],\n",
       "       [0, 0, False, False, True],\n",
       "       [1, 0, False, False, True],\n",
       "       [0, 1, False, False, True],\n",
       "       [0, 1, False, False, True],\n",
       "       [1, 1, False, False, True],\n",
       "       [1, 0, False, False, True],\n",
       "       [1, 0, False, False, True],\n",
       "       [0, 0, False, False, True],\n",
       "       [1, 0, True, False, False],\n",
       "       [1, 0, True, False, False],\n",
       "       [1, 1, False, False, True],\n",
       "       [0, 0, True, False, False],\n",
       "       [0, 0, False, False, True],\n",
       "       [0, 0, False, False, True],\n",
       "       [1, 1, False, False, True],\n",
       "       [0, 0, True, False, False],\n",
       "       [0, 0, False, False, True],\n",
       "       [0, 0, True, False, False],\n",
       "       [0, 0, False, False, True],\n",
       "       [1, 0, False, False, True],\n",
       "       [0, 0, False, False, True],\n",
       "       [1, 1, False, False, True],\n",
       "       [1, 0, True, False, False],\n",
       "       [1, 1, False, False, True],\n",
       "       [1, 0, False, False, True],\n",
       "       [1, 0, False, False, True],\n",
       "       [1, 0, False, False, True],\n",
       "       [0, 0, False, False, True],\n",
       "       [1, 1, False, False, True],\n",
       "       [1, 1, False, False, True],\n",
       "       [1, 1, False, False, True],\n",
       "       [1, 0, False, False, True],\n",
       "       [1, 0, False, False, True],\n",
       "       [0, 0, False, False, True],\n",
       "       [1, 1, False, False, True],\n",
       "       [1, 0, False, False, True],\n",
       "       [1, 0, False, False, True],\n",
       "       [0, 1, False, False, True],\n",
       "       [1, 0, True, False, False],\n",
       "       [0, 0, False, False, True],\n",
       "       [1, 1, False, False, True],\n",
       "       [1, 1, False, False, True],\n",
       "       [0, 0, False, False, True],\n",
       "       [1, 1, False, False, True],\n",
       "       [0, 0, False, False, True],\n",
       "       [1, 0, False, False, True],\n",
       "       [1, 1, False, False, True],\n",
       "       [1, 1, False, False, True],\n",
       "       [0, 0, False, False, True],\n",
       "       [0, 1, False, False, True],\n",
       "       [1, 0, False, False, True],\n",
       "       [0, 1, False, False, True],\n",
       "       [1, 0, True, False, False],\n",
       "       [1, 1, False, False, True],\n",
       "       [1, 0, False, False, True],\n",
       "       [1, 0, False, False, True],\n",
       "       [1, 0, False, False, True],\n",
       "       [1, 0, False, False, True],\n",
       "       [1, 0, False, False, True],\n",
       "       [1, 0, False, False, True],\n",
       "       [0, 1, False, False, True],\n",
       "       [1, 0, True, False, False],\n",
       "       [1, 0, True, False, False],\n",
       "       [1, 0, False, False, True],\n",
       "       [0, 0, False, False, True],\n",
       "       [1, 0, True, False, False],\n",
       "       [1, 0, True, False, False],\n",
       "       [1, 0, False, False, True],\n",
       "       [1, 0, False, False, True],\n",
       "       [1, 0, False, False, True],\n",
       "       [1, 0, False, False, True],\n",
       "       [0, 0, False, False, True],\n",
       "       [1, 0, False, False, True],\n",
       "       [1, 0, False, False, True],\n",
       "       [1, 0, False, False, True],\n",
       "       [1, 0, False, False, True],\n",
       "       [1, 1, False, False, True],\n",
       "       [1, 0, True, False, False],\n",
       "       [1, 0, True, False, False],\n",
       "       [1, 0, False, False, True],\n",
       "       [1, 0, False, False, True],\n",
       "       [1, 1, False, False, True],\n",
       "       [1, 0, True, False, False],\n",
       "       [0, 0, False, False, True],\n",
       "       [0, 1, False, False, True],\n",
       "       [1, 1, False, False, True],\n",
       "       [0, 0, True, False, False],\n",
       "       [1, 1, False, False, True],\n",
       "       [0, 0, False, False, True],\n",
       "       [1, 0, False, False, True],\n",
       "       [0, 0, False, False, True],\n",
       "       [0, 0, True, False, False],\n",
       "       [1, 0, True, False, False],\n",
       "       [0, 0, False, False, True],\n",
       "       [1, 0, False, False, True],\n",
       "       [0, 0, False, False, True],\n",
       "       [1, 0, False, False, True],\n",
       "       [1, 0, False, False, True],\n",
       "       [0, 0, True, False, False],\n",
       "       [0, 0, True, False, False],\n",
       "       [1, 1, False, False, True],\n",
       "       [1, 0, True, False, False],\n",
       "       [1, 1, False, False, True],\n",
       "       [0, 0, False, False, True],\n",
       "       [1, 1, False, False, True],\n",
       "       [0, 0, False, False, True],\n",
       "       [1, 0, False, False, True],\n",
       "       [1, 0, True, False, False],\n",
       "       [0, 1, False, False, True],\n",
       "       [1, 0, True, False, False],\n",
       "       [1, 1, False, False, True],\n",
       "       [0, 0, False, False, True],\n",
       "       [0, 0, True, False, False],\n",
       "       [1, 0, False, False, True],\n",
       "       [1, 0, False, False, True],\n",
       "       [0, 0, False, False, True],\n",
       "       [0, 1, False, False, True],\n",
       "       [0, 0, False, False, True],\n",
       "       [0, 1, False, False, True],\n",
       "       [1, 0, False, False, True],\n",
       "       [1, 1, False, False, True],\n",
       "       [1, 1, False, False, True],\n",
       "       [0, 0, False, False, True],\n",
       "       [1, 0, False, False, True],\n",
       "       [1, 0, False, False, True],\n",
       "       [1, 0, False, False, True],\n",
       "       [0, 0, True, False, False],\n",
       "       [1, 0, False, False, True],\n",
       "       [1, 0, True, False, False],\n",
       "       [1, 1, False, False, True],\n",
       "       [1, 0, False, False, True],\n",
       "       [1, 0, False, False, True],\n",
       "       [0, 0, False, False, True],\n",
       "       [1, 0, False, False, True],\n",
       "       [0, 0, True, False, False],\n",
       "       [1, 1, False, False, True],\n",
       "       [1, 0, True, False, False],\n",
       "       [0, 1, False, False, True],\n",
       "       [0, 0, False, False, True],\n",
       "       [0, 1, False, False, True]], dtype=object)"
      ]
     },
     "execution_count": 27,
     "metadata": {},
     "output_type": "execute_result"
    }
   ],
   "source": [
    "X[Y==0]"
   ]
  },
  {
   "cell_type": "code",
   "execution_count": 28,
   "id": "2c9fcc19-88b5-40ee-bb1b-a3be229eb25d",
   "metadata": {},
   "outputs": [
    {
     "data": {
      "text/plain": [
       "168"
      ]
     },
     "execution_count": 28,
     "metadata": {},
     "output_type": "execute_result"
    }
   ],
   "source": [
    "len(X[Y==0])"
   ]
  },
  {
   "cell_type": "code",
   "execution_count": 29,
   "id": "4396ca45-925d-49a3-a5c8-95174193362f",
   "metadata": {},
   "outputs": [
    {
     "data": {
      "text/plain": [
       "array([1, 1, 1, 0, 1, 0, 1, 1, 1, 1, 1, 0, 1, 1, 1, 1, 1, 1, 1, 1, 1, 1,\n",
       "       1, 1, 0, 1, 0, 0, 1, 1, 1, 1, 0, 0, 1, 0, 1, 1, 1, 1, 1, 1, 1, 0,\n",
       "       1, 1, 1, 1, 1, 1, 0, 1, 1, 1, 1, 1, 1, 1, 1, 1, 0, 1, 1, 1, 0, 1,\n",
       "       0, 1, 0, 1, 1, 1, 1, 1, 1, 0, 1, 1, 1, 1, 1, 1, 0, 1, 0, 0, 1, 1,\n",
       "       1, 0, 1, 1, 1, 1, 0, 1, 1, 1, 1, 1, 1, 1, 1, 0, 1, 1, 1, 0, 0, 1,\n",
       "       1, 1, 1, 1, 1, 1, 1, 1, 1, 0, 1, 1, 1, 0, 1, 1, 0, 0, 1, 1, 1, 1,\n",
       "       1, 1, 1, 1, 1, 1, 1, 1, 0, 0, 0, 0, 1, 1, 1, 1, 0, 0, 1, 1, 1, 1,\n",
       "       1, 1, 1, 1, 1, 1, 1, 1, 1, 1, 0, 1, 0, 1, 1, 1, 1, 1, 1, 1, 1, 1,\n",
       "       1, 1, 1, 1, 1, 1, 0, 1, 0, 1, 0, 0, 1, 0, 1, 1, 1, 1, 0, 1, 1, 1,\n",
       "       1, 0, 1, 0, 0, 1, 1, 1, 1, 1, 1, 1, 1, 0, 1, 1, 1, 1, 1, 1, 1, 1,\n",
       "       0, 1, 1, 1, 1, 1, 1, 1, 1, 1, 1, 1, 1, 1, 1, 1, 1, 1, 1, 1, 1, 1,\n",
       "       1, 1, 1, 1, 1, 0, 1, 1, 1, 1, 1, 1, 1, 1, 1, 1, 0, 0, 1, 1, 0, 1,\n",
       "       1, 1, 0, 1, 1, 1, 1, 1, 1, 1, 1, 0, 1, 0, 1, 1, 0, 1, 0, 1, 1, 0,\n",
       "       0, 1, 0, 1, 1, 0, 1, 1, 1, 1, 1, 0, 0, 1, 1, 1, 1, 0, 0, 1, 1, 0,\n",
       "       0, 1, 1, 1, 0, 1, 1, 1, 1, 1, 1, 1, 1, 1, 1, 1, 0, 1, 1, 1, 1, 1,\n",
       "       1, 0, 0, 1, 1, 1, 1, 1, 1, 0, 1, 0, 1, 0, 1, 1, 1, 1, 1, 1, 1, 1,\n",
       "       1, 1, 1, 1, 1, 1, 1, 1, 1, 1, 1, 1, 1, 0, 0, 1, 1, 1, 1, 1, 1, 1,\n",
       "       1, 1, 1, 1, 1, 1, 1, 0, 1, 1, 1, 0, 1, 1, 1, 1, 0, 1, 1, 0, 1, 1,\n",
       "       1, 1, 1, 1, 0, 0, 1, 1, 1, 1, 1, 0, 1, 1, 1, 1, 1, 1, 1, 1, 1, 1,\n",
       "       0, 1, 1, 1, 1, 1, 1, 1, 1, 1, 1, 1, 1, 0, 1, 0, 1, 1, 1, 1, 1, 1,\n",
       "       1, 1, 1, 1, 0, 1, 1, 1, 1, 1, 1, 1, 1, 1, 1, 1, 0, 1, 1, 1, 1, 1,\n",
       "       1, 1, 1, 1, 1, 1, 1, 1, 1, 0, 1, 1, 1, 1, 1, 0, 1, 1, 1, 1, 1, 1,\n",
       "       1, 1, 1, 1, 1, 1, 1, 1, 1, 1, 1, 1, 1, 1, 1, 1, 1, 1, 0, 1, 1, 1,\n",
       "       1, 1, 0, 1, 1, 1, 1, 1, 1, 0, 1, 1, 0, 1, 1, 1, 1, 1, 1, 1, 1, 0,\n",
       "       1, 1, 1, 1, 1, 1, 0, 1, 1, 1, 0, 1, 1, 0, 1, 1, 1, 1, 0, 1, 1, 0,\n",
       "       1, 1, 1, 0, 1, 1, 1, 0, 1, 1, 1, 1, 1, 1, 1, 1, 1, 1, 1, 0, 0, 1,\n",
       "       1, 1, 1, 1, 1, 1, 1, 1, 1, 1, 1, 1, 1, 0, 1, 1, 1, 1, 1, 1, 1, 1,\n",
       "       1, 1, 1, 1, 1, 0, 0, 1, 1, 1, 1, 1, 1, 0, 1, 0, 1, 1, 1, 1, 1, 1,\n",
       "       1, 0, 1, 1, 1, 1, 1, 1, 1, 1, 1, 0, 1, 1, 1, 1, 1, 1, 1, 1, 1, 1,\n",
       "       0, 1, 1, 1, 1, 1, 1, 1, 1, 1, 1, 1, 1, 1, 1, 1, 1, 1, 1, 1, 1, 0,\n",
       "       0, 1, 0, 0, 1, 1, 1, 1, 1, 1, 1, 1, 1, 1, 1, 1, 1, 1, 1, 1, 1, 1,\n",
       "       1, 1, 1, 1, 1, 1, 0, 1, 1, 1, 0, 0, 1, 1, 0, 1, 1, 1, 1, 1, 1, 1,\n",
       "       0, 1, 1, 1, 1, 1, 1, 0, 1, 1, 1, 1, 1, 1, 0, 1, 1, 1, 1, 1, 0, 0,\n",
       "       1, 1, 1, 1, 1, 1, 1, 1, 1, 1, 0, 1, 0, 1, 1, 1, 1, 1, 1, 1, 0, 1,\n",
       "       1, 1, 1, 1, 1, 0, 0, 1, 1, 1, 1, 1, 1, 1, 1, 1, 1, 1, 1, 1, 1, 1,\n",
       "       1, 0, 1, 1, 1, 1, 1, 1, 1, 1, 1, 1, 1, 1, 1, 1, 1, 0, 1, 0, 1, 1,\n",
       "       1, 1, 1, 1, 1, 1, 1, 1, 0, 1, 1, 1, 1, 1, 1, 1, 0, 0, 1, 1, 0, 0,\n",
       "       0, 1, 1, 1, 1, 0, 1, 0, 0, 1, 1, 1, 0, 1, 1, 1, 1, 1, 1, 1, 1, 1,\n",
       "       1, 1, 0, 1, 1, 1, 1, 1, 1, 0, 0, 1, 1, 1, 1, 1, 1, 1, 0, 0, 1, 1,\n",
       "       1, 1, 1, 1, 1, 1, 1, 1, 1, 1, 1, 1, 1, 1, 1, 1, 1, 1, 1, 1, 1, 1,\n",
       "       1, 0, 1, 1, 1, 1, 0, 1, 1, 1, 0, 1, 1, 1, 1, 1, 1, 1, 1, 1, 1, 1,\n",
       "       1, 1, 1, 1, 1, 1, 1, 1, 1, 1, 1, 1, 1, 0, 1, 1, 1, 0, 1, 1, 1, 1,\n",
       "       1, 1, 1, 1, 1, 1, 0, 0, 0, 1, 1, 0, 1, 1, 1, 0, 1, 1, 1, 1, 1, 1,\n",
       "       1, 1, 1, 1, 1, 1, 1, 1, 1, 1, 1, 1, 1, 1, 1, 1, 1, 1, 1, 1, 1, 1,\n",
       "       1, 1, 1, 1, 1, 0, 1, 1, 0, 0, 0, 1, 0, 0, 1, 1, 1, 0, 1, 1, 1, 1,\n",
       "       1, 1, 0, 1, 0, 0, 1, 1, 1, 0])"
      ]
     },
     "execution_count": 29,
     "metadata": {},
     "output_type": "execute_result"
    }
   ],
   "source": [
    "Y"
   ]
  },
  {
   "cell_type": "code",
   "id": "c3b73c00-4a86-4b17-9c06-ca970b9f88fa",
   "metadata": {
    "jupyter": {
     "is_executing": true
    }
   },
   "source": [
    "acerto_de_um = len(Y[Y==1])\n",
    "acerto_de_zero = len(Y[Y==0])\n",
    "taxa_de_acerto_base = 100.0 * max(acerto_de_um, acerto_de_zero) / len(Y)\n",
    "print(\"Taxa de acerto base: %f\" % taxa_de_acerto_base)"
   ],
   "outputs": [],
   "execution_count": null
  },
  {
   "cell_type": "code",
   "execution_count": 38,
   "id": "6d80978c-0af9-4246-85af-756375a6436c",
   "metadata": {},
   "outputs": [],
   "source": [
    "# TREINO\n",
    "porcentagem_treino = 0.9\n",
    "tamanho_de_treino = int(porcentagem_treino * len(Y))\n",
    "tamanho_de_teste = len(Y) - tamanho_de_treino"
   ]
  },
  {
   "cell_type": "code",
   "execution_count": 39,
   "id": "253e93b3-cf18-405e-8828-5707e4a44294",
   "metadata": {},
   "outputs": [],
   "source": [
    "treino_dados = X[:tamanho_de_treino]\n",
    "treino_marcacoes = Y[:tamanho_de_treino]"
   ]
  },
  {
   "cell_type": "code",
   "execution_count": 40,
   "id": "4d63292a-a17e-4fe0-b665-2102f639f062",
   "metadata": {},
   "outputs": [],
   "source": [
    "treino_dados = X[:tamanho_de_treino]\n",
    "treino_marcacoes = Y[:tamanho_de_treino]"
   ]
  },
  {
   "cell_type": "code",
   "execution_count": 41,
   "id": "30cfdb24-fc61-474c-9ad1-b7787ba8ae6f",
   "metadata": {},
   "outputs": [],
   "source": [
    "# TESTE\n",
    "teste_dados = X[-tamanho_de_teste:]\n",
    "teste_marcacoes = Y[-tamanho_de_teste:]"
   ]
  },
  {
   "cell_type": "code",
   "execution_count": 42,
   "id": "8d1920fc-c27a-4346-adb1-4270ae7111b0",
   "metadata": {},
   "outputs": [],
   "source": [
    "from sklearn.naive_bayes import MultinomialNB\n",
    "\n",
    "modelo = MultinomialNB()\n",
    "modelo.fit(treino_dados, treino_marcacoes)\n",
    "\n",
    "# Resultado\n",
    "resultado = modelo.predict(teste_dados)"
   ]
  },
  {
   "cell_type": "code",
   "execution_count": 43,
   "id": "f001fb76-9133-4568-b633-1361255b7d35",
   "metadata": {},
   "outputs": [],
   "source": [
    "diferencas = resultado - teste_marcacoes\n",
    "acertos = [d for d in diferencas if d == 0]\n",
    "total_de_acertos = len(acertos)\n",
    "total_de_elementos = len(teste_dados)\n",
    "taxa_de_acerto = 100.0 * total_de_acertos / total_de_elementos"
   ]
  },
  {
   "cell_type": "code",
   "execution_count": 44,
   "id": "07c0c0dd-99bf-4e83-bae5-9b5b55de54c4",
   "metadata": {},
   "outputs": [
    {
     "name": "stdout",
     "output_type": "stream",
     "text": [
      "82.0\n",
      "100\n"
     ]
    }
   ],
   "source": [
    "print(taxa_de_acerto)\n",
    "print(total_de_elementos)"
   ]
  },
  {
   "cell_type": "code",
   "execution_count": 47,
   "id": "ea3e0855-3db1-49cd-9608-261320f6aa4d",
   "metadata": {},
   "outputs": [],
   "source": [
    "diferencas = resultado == teste_marcacoes\n",
    "acertos = [d for d in diferencas if d == 0]\n",
    "total_de_acertos = len(acertos)\n",
    "total_de_elementos = len(teste_dados)"
   ]
  },
  {
   "cell_type": "code",
   "execution_count": 48,
   "id": "6510983f-b531-491a-b550-695b9183b343",
   "metadata": {},
   "outputs": [
    {
     "data": {
      "text/plain": [
       "82"
      ]
     },
     "execution_count": 48,
     "metadata": {},
     "output_type": "execute_result"
    }
   ],
   "source": [
    "sum(diferencas)"
   ]
  },
  {
   "cell_type": "code",
   "execution_count": null,
   "id": "55e21b71-789d-4458-b0f6-982545c88d29",
   "metadata": {},
   "outputs": [],
   "source": []
  }
 ],
 "metadata": {
  "kernelspec": {
   "display_name": "Python 3 (ipykernel)",
   "language": "python",
   "name": "python3"
  },
  "language_info": {
   "codemirror_mode": {
    "name": "ipython",
    "version": 3
   },
   "file_extension": ".py",
   "mimetype": "text/x-python",
   "name": "python",
   "nbconvert_exporter": "python",
   "pygments_lexer": "ipython3",
   "version": "3.11.6"
  }
 },
 "nbformat": 4,
 "nbformat_minor": 5
}
