{
 "cells": [
  {
   "cell_type": "code",
   "execution_count": 22,
   "id": "60532a74-9fb6-4eda-a30b-912edfa4c25b",
   "metadata": {},
   "outputs": [],
   "source": [
    "import pandas as pd\n",
    "df = pd.read_csv('buscas.csv')\n",
    "\n",
    "X_df = df[['home', 'busca', 'logado']]\n",
    "Y_df = df['comprou']\n",
    "\n",
    "Xdummies_df = pd.get_dummies(X_df)\n",
    "Ydummies_df = Y_df\n",
    "\n",
    "X = Xdummies_df.values\n",
    "Y = Ydummies_df.values\n",
    "\n",
    "acerto_de_um = len(Y[Y==1])\n",
    "acerto_de_zero = len(Y[Y==0])\n",
    "\n",
    "taxa_de_acerto_base = 100.0 * max(acerto_de_um, acerto_de_zero) / len(Y)"
   ]
  },
  {
   "cell_type": "code",
   "execution_count": 12,
   "id": "aafc3ff4-58bd-4174-b8da-dce9fabd141b",
   "metadata": {},
   "outputs": [],
   "source": [
    "porcentagem_treino = 0.9\n",
    "\n",
    "tamanho_de_treino = int(porcentagem_treino * len(Y))\n",
    "tamanho_de_teste = len(Y) - tamanho_de_treino\n",
    "\n",
    "treino_dados = X[:tamanho_de_treino]\n",
    "treino_marcacoes = Y[:tamanho_de_treino]\n",
    "\n",
    "teste_dados = X[-tamanho_de_teste:]\n",
    "teste_marcacoes = Y[-tamanho_de_teste:]"
   ]
  },
  {
   "cell_type": "code",
   "id": "20b32136-e39f-4164-b30f-7b43e87542b1",
   "metadata": {
    "jupyter": {
     "is_executing": true
    }
   },
   "source": [
    "from sklearn.naive_bayes import MultinomialNB\n",
    "modelo = MultinomialNB()\n",
    "modelo.fit(treino_dados, treino_marcacoes)\n",
    "\n",
    "resultado = modelo.predict(teste_dados)\n",
    "\n",
    "acertos = resultado == teste_marcacoes"
   ],
   "outputs": [],
   "execution_count": null
  },
  {
   "cell_type": "code",
   "execution_count": 14,
   "id": "5948a4f3-2f2b-4d29-82d5-d7a6c4e16a7d",
   "metadata": {},
   "outputs": [],
   "source": [
    "total_de_acertos = sum(acertos)\n",
    "total_de_elementos = len(teste_dados)\n",
    "\n",
    "taxa_de_acerto = 100.0 * total_de_acertos / total_de_elementos"
   ]
  },
  {
   "cell_type": "code",
   "execution_count": 19,
   "id": "1c8d5cce-f8cc-4a80-8b53-7c26d95e541e",
   "metadata": {},
   "outputs": [
    {
     "name": "stdout",
     "output_type": "stream",
     "text": [
      "Taxa de acerto base: 83.200000\n"
     ]
    }
   ],
   "source": [
    "print(\"Taxa de acerto base: %f\" % taxa_de_acerto_base)"
   ]
  },
  {
   "cell_type": "code",
   "execution_count": 18,
   "id": "bc5714d0-ca04-467e-be34-346863049d28",
   "metadata": {},
   "outputs": [
    {
     "name": "stdout",
     "output_type": "stream",
     "text": [
      "Taxa de acerto do algoritmo: 82.000000\n",
      "100\n"
     ]
    }
   ],
   "source": [
    "taxa_de_acerto = 100.0 * total_de_acertos / total_de_elementos\n",
    "print(\"Taxa de acerto do algoritmo: %f\" % taxa_de_acerto)\n",
    "print(total_de_elementos)"
   ]
  }
 ],
 "metadata": {
  "kernelspec": {
   "display_name": "Python 3 (ipykernel)",
   "language": "python",
   "name": "python3"
  },
  "language_info": {
   "codemirror_mode": {
    "name": "ipython",
    "version": 3
   },
   "file_extension": ".py",
   "mimetype": "text/x-python",
   "name": "python",
   "nbconvert_exporter": "python",
   "pygments_lexer": "ipython3",
   "version": "3.11.6"
  }
 },
 "nbformat": 4,
 "nbformat_minor": 5
}
