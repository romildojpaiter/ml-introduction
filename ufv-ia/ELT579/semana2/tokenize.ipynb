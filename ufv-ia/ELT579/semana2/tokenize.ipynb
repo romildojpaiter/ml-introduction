{
 "cells": [
  {
   "cell_type": "code",
   "execution_count": 76,
   "metadata": {},
   "outputs": [
    {
     "name": "stdout",
     "output_type": "stream",
     "text": [
      "Requirement already satisfied: keras-cv in /home/romildopaiter/.pyenv/versions/3.9.2/lib/python3.9/site-packages (0.9.0)\n",
      "Requirement already satisfied: packaging in /home/romildopaiter/.pyenv/versions/3.9.2/lib/python3.9/site-packages (from keras-cv) (24.1)\n",
      "Requirement already satisfied: absl-py in /home/romildopaiter/.pyenv/versions/3.9.2/lib/python3.9/site-packages (from keras-cv) (2.1.0)\n",
      "Requirement already satisfied: regex in /home/romildopaiter/.pyenv/versions/3.9.2/lib/python3.9/site-packages (from keras-cv) (2024.7.24)\n",
      "Requirement already satisfied: tensorflow-datasets in /home/romildopaiter/.pyenv/versions/3.9.2/lib/python3.9/site-packages (from keras-cv) (4.9.3)\n",
      "Requirement already satisfied: keras-core in /home/romildopaiter/.pyenv/versions/3.9.2/lib/python3.9/site-packages (from keras-cv) (0.1.7)\n",
      "Requirement already satisfied: kagglehub in /home/romildopaiter/.pyenv/versions/3.9.2/lib/python3.9/site-packages (from keras-cv) (0.3.0)\n",
      "Requirement already satisfied: requests in /home/romildopaiter/.pyenv/versions/3.9.2/lib/python3.9/site-packages (from kagglehub->keras-cv) (2.32.3)\n",
      "Requirement already satisfied: tqdm in /home/romildopaiter/.pyenv/versions/3.9.2/lib/python3.9/site-packages (from kagglehub->keras-cv) (4.66.5)\n",
      "Requirement already satisfied: numpy in /home/romildopaiter/.pyenv/versions/3.9.2/lib/python3.9/site-packages (from keras-core->keras-cv) (1.26.4)\n",
      "Requirement already satisfied: rich in /home/romildopaiter/.pyenv/versions/3.9.2/lib/python3.9/site-packages (from keras-core->keras-cv) (13.9.1)\n",
      "Requirement already satisfied: namex in /home/romildopaiter/.pyenv/versions/3.9.2/lib/python3.9/site-packages (from keras-core->keras-cv) (0.0.8)\n",
      "Requirement already satisfied: h5py in /home/romildopaiter/.pyenv/versions/3.9.2/lib/python3.9/site-packages (from keras-core->keras-cv) (3.12.1)\n",
      "Requirement already satisfied: dm-tree in /home/romildopaiter/.pyenv/versions/3.9.2/lib/python3.9/site-packages (from keras-core->keras-cv) (0.1.8)\n",
      "Requirement already satisfied: array-record in /home/romildopaiter/.pyenv/versions/3.9.2/lib/python3.9/site-packages (from tensorflow-datasets->keras-cv) (0.5.1)\n",
      "Requirement already satisfied: click in /home/romildopaiter/.pyenv/versions/3.9.2/lib/python3.9/site-packages (from tensorflow-datasets->keras-cv) (8.1.7)\n",
      "Requirement already satisfied: etils>=0.9.0 in /home/romildopaiter/.pyenv/versions/3.9.2/lib/python3.9/site-packages (from etils[enp,epath,etree]>=0.9.0->tensorflow-datasets->keras-cv) (1.5.2)\n",
      "Requirement already satisfied: promise in /home/romildopaiter/.pyenv/versions/3.9.2/lib/python3.9/site-packages (from tensorflow-datasets->keras-cv) (2.3)\n",
      "Requirement already satisfied: protobuf>=3.20 in /home/romildopaiter/.pyenv/versions/3.9.2/lib/python3.9/site-packages (from tensorflow-datasets->keras-cv) (3.20.3)\n",
      "Requirement already satisfied: psutil in /home/romildopaiter/.pyenv/versions/3.9.2/lib/python3.9/site-packages (from tensorflow-datasets->keras-cv) (6.0.0)\n",
      "Requirement already satisfied: tensorflow-metadata in /home/romildopaiter/.pyenv/versions/3.9.2/lib/python3.9/site-packages (from tensorflow-datasets->keras-cv) (1.15.0)\n",
      "Requirement already satisfied: termcolor in /home/romildopaiter/.pyenv/versions/3.9.2/lib/python3.9/site-packages (from tensorflow-datasets->keras-cv) (2.4.0)\n",
      "Requirement already satisfied: toml in /home/romildopaiter/.pyenv/versions/3.9.2/lib/python3.9/site-packages (from tensorflow-datasets->keras-cv) (0.10.2)\n",
      "Requirement already satisfied: wrapt in /home/romildopaiter/.pyenv/versions/3.9.2/lib/python3.9/site-packages (from tensorflow-datasets->keras-cv) (1.16.0)\n",
      "Requirement already satisfied: fsspec in /home/romildopaiter/.pyenv/versions/3.9.2/lib/python3.9/site-packages (from etils[enp,epath,etree]>=0.9.0->tensorflow-datasets->keras-cv) (2024.9.0)\n",
      "Requirement already satisfied: importlib_resources in /home/romildopaiter/.pyenv/versions/3.9.2/lib/python3.9/site-packages (from etils[enp,epath,etree]>=0.9.0->tensorflow-datasets->keras-cv) (6.4.5)\n",
      "Requirement already satisfied: typing_extensions in /home/romildopaiter/.pyenv/versions/3.9.2/lib/python3.9/site-packages (from etils[enp,epath,etree]>=0.9.0->tensorflow-datasets->keras-cv) (4.12.2)\n",
      "Requirement already satisfied: zipp in /home/romildopaiter/.pyenv/versions/3.9.2/lib/python3.9/site-packages (from etils[enp,epath,etree]>=0.9.0->tensorflow-datasets->keras-cv) (3.19.2)\n",
      "Requirement already satisfied: charset-normalizer<4,>=2 in /home/romildopaiter/.pyenv/versions/3.9.2/lib/python3.9/site-packages (from requests->kagglehub->keras-cv) (3.3.2)\n",
      "Requirement already satisfied: idna<4,>=2.5 in /home/romildopaiter/.pyenv/versions/3.9.2/lib/python3.9/site-packages (from requests->kagglehub->keras-cv) (3.7)\n",
      "Requirement already satisfied: urllib3<3,>=1.21.1 in /home/romildopaiter/.pyenv/versions/3.9.2/lib/python3.9/site-packages (from requests->kagglehub->keras-cv) (2.2.2)\n",
      "Requirement already satisfied: certifi>=2017.4.17 in /home/romildopaiter/.pyenv/versions/3.9.2/lib/python3.9/site-packages (from requests->kagglehub->keras-cv) (2024.7.4)\n",
      "Requirement already satisfied: six in /home/romildopaiter/.pyenv/versions/3.9.2/lib/python3.9/site-packages (from promise->tensorflow-datasets->keras-cv) (1.16.0)\n",
      "Requirement already satisfied: markdown-it-py>=2.2.0 in /home/romildopaiter/.pyenv/versions/3.9.2/lib/python3.9/site-packages (from rich->keras-core->keras-cv) (3.0.0)\n",
      "Requirement already satisfied: pygments<3.0.0,>=2.13.0 in /home/romildopaiter/.pyenv/versions/3.9.2/lib/python3.9/site-packages (from rich->keras-core->keras-cv) (2.18.0)\n",
      "Requirement already satisfied: mdurl~=0.1 in /home/romildopaiter/.pyenv/versions/3.9.2/lib/python3.9/site-packages (from markdown-it-py>=2.2.0->rich->keras-core->keras-cv) (0.1.2)\n",
      "Note: you may need to restart the kernel to use updated packages.\n",
      "Requirement already satisfied: keras-nlp in /home/romildopaiter/.pyenv/versions/3.9.2/lib/python3.9/site-packages (0.15.1)\n",
      "Requirement already satisfied: absl-py in /home/romildopaiter/.pyenv/versions/3.9.2/lib/python3.9/site-packages (from keras-nlp) (2.1.0)\n",
      "Requirement already satisfied: numpy in /home/romildopaiter/.pyenv/versions/3.9.2/lib/python3.9/site-packages (from keras-nlp) (1.26.4)\n",
      "Requirement already satisfied: packaging in /home/romildopaiter/.pyenv/versions/3.9.2/lib/python3.9/site-packages (from keras-nlp) (24.1)\n",
      "Requirement already satisfied: regex in /home/romildopaiter/.pyenv/versions/3.9.2/lib/python3.9/site-packages (from keras-nlp) (2024.7.24)\n",
      "Requirement already satisfied: rich in /home/romildopaiter/.pyenv/versions/3.9.2/lib/python3.9/site-packages (from keras-nlp) (13.9.1)\n",
      "Requirement already satisfied: kagglehub in /home/romildopaiter/.pyenv/versions/3.9.2/lib/python3.9/site-packages (from keras-nlp) (0.3.0)\n",
      "Requirement already satisfied: tensorflow-text in /home/romildopaiter/.pyenv/versions/3.9.2/lib/python3.9/site-packages (from keras-nlp) (2.17.0)\n",
      "Requirement already satisfied: requests in /home/romildopaiter/.pyenv/versions/3.9.2/lib/python3.9/site-packages (from kagglehub->keras-nlp) (2.32.3)\n",
      "Requirement already satisfied: tqdm in /home/romildopaiter/.pyenv/versions/3.9.2/lib/python3.9/site-packages (from kagglehub->keras-nlp) (4.66.5)\n",
      "Requirement already satisfied: markdown-it-py>=2.2.0 in /home/romildopaiter/.pyenv/versions/3.9.2/lib/python3.9/site-packages (from rich->keras-nlp) (3.0.0)\n",
      "Requirement already satisfied: pygments<3.0.0,>=2.13.0 in /home/romildopaiter/.pyenv/versions/3.9.2/lib/python3.9/site-packages (from rich->keras-nlp) (2.18.0)\n",
      "Requirement already satisfied: typing-extensions<5.0,>=4.0.0 in /home/romildopaiter/.pyenv/versions/3.9.2/lib/python3.9/site-packages (from rich->keras-nlp) (4.12.2)\n",
      "Requirement already satisfied: tensorflow<2.18,>=2.17.0 in /home/romildopaiter/.pyenv/versions/3.9.2/lib/python3.9/site-packages (from tensorflow-text->keras-nlp) (2.17.0)\n",
      "Requirement already satisfied: mdurl~=0.1 in /home/romildopaiter/.pyenv/versions/3.9.2/lib/python3.9/site-packages (from markdown-it-py>=2.2.0->rich->keras-nlp) (0.1.2)\n",
      "Requirement already satisfied: astunparse>=1.6.0 in /home/romildopaiter/.pyenv/versions/3.9.2/lib/python3.9/site-packages (from tensorflow<2.18,>=2.17.0->tensorflow-text->keras-nlp) (1.6.3)\n",
      "Requirement already satisfied: flatbuffers>=24.3.25 in /home/romildopaiter/.pyenv/versions/3.9.2/lib/python3.9/site-packages (from tensorflow<2.18,>=2.17.0->tensorflow-text->keras-nlp) (24.3.25)\n",
      "Requirement already satisfied: gast!=0.5.0,!=0.5.1,!=0.5.2,>=0.2.1 in /home/romildopaiter/.pyenv/versions/3.9.2/lib/python3.9/site-packages (from tensorflow<2.18,>=2.17.0->tensorflow-text->keras-nlp) (0.6.0)\n",
      "Requirement already satisfied: google-pasta>=0.1.1 in /home/romildopaiter/.pyenv/versions/3.9.2/lib/python3.9/site-packages (from tensorflow<2.18,>=2.17.0->tensorflow-text->keras-nlp) (0.2.0)\n",
      "Requirement already satisfied: h5py>=3.10.0 in /home/romildopaiter/.pyenv/versions/3.9.2/lib/python3.9/site-packages (from tensorflow<2.18,>=2.17.0->tensorflow-text->keras-nlp) (3.12.1)\n",
      "Requirement already satisfied: libclang>=13.0.0 in /home/romildopaiter/.pyenv/versions/3.9.2/lib/python3.9/site-packages (from tensorflow<2.18,>=2.17.0->tensorflow-text->keras-nlp) (18.1.1)\n",
      "Requirement already satisfied: ml-dtypes<0.5.0,>=0.3.1 in /home/romildopaiter/.pyenv/versions/3.9.2/lib/python3.9/site-packages (from tensorflow<2.18,>=2.17.0->tensorflow-text->keras-nlp) (0.4.1)\n",
      "Requirement already satisfied: opt-einsum>=2.3.2 in /home/romildopaiter/.pyenv/versions/3.9.2/lib/python3.9/site-packages (from tensorflow<2.18,>=2.17.0->tensorflow-text->keras-nlp) (3.4.0)\n",
      "Requirement already satisfied: protobuf!=4.21.0,!=4.21.1,!=4.21.2,!=4.21.3,!=4.21.4,!=4.21.5,<5.0.0dev,>=3.20.3 in /home/romildopaiter/.pyenv/versions/3.9.2/lib/python3.9/site-packages (from tensorflow<2.18,>=2.17.0->tensorflow-text->keras-nlp) (3.20.3)\n",
      "Requirement already satisfied: setuptools in /home/romildopaiter/.pyenv/versions/3.9.2/lib/python3.9/site-packages (from tensorflow<2.18,>=2.17.0->tensorflow-text->keras-nlp) (49.2.1)\n",
      "Requirement already satisfied: six>=1.12.0 in /home/romildopaiter/.pyenv/versions/3.9.2/lib/python3.9/site-packages (from tensorflow<2.18,>=2.17.0->tensorflow-text->keras-nlp) (1.16.0)\n",
      "Requirement already satisfied: termcolor>=1.1.0 in /home/romildopaiter/.pyenv/versions/3.9.2/lib/python3.9/site-packages (from tensorflow<2.18,>=2.17.0->tensorflow-text->keras-nlp) (2.4.0)\n",
      "Requirement already satisfied: wrapt>=1.11.0 in /home/romildopaiter/.pyenv/versions/3.9.2/lib/python3.9/site-packages (from tensorflow<2.18,>=2.17.0->tensorflow-text->keras-nlp) (1.16.0)\n",
      "Requirement already satisfied: grpcio<2.0,>=1.24.3 in /home/romildopaiter/.pyenv/versions/3.9.2/lib/python3.9/site-packages (from tensorflow<2.18,>=2.17.0->tensorflow-text->keras-nlp) (1.66.2)\n",
      "Requirement already satisfied: tensorboard<2.18,>=2.17 in /home/romildopaiter/.pyenv/versions/3.9.2/lib/python3.9/site-packages (from tensorflow<2.18,>=2.17.0->tensorflow-text->keras-nlp) (2.17.1)\n",
      "Requirement already satisfied: keras>=3.2.0 in /home/romildopaiter/.pyenv/versions/3.9.2/lib/python3.9/site-packages (from tensorflow<2.18,>=2.17.0->tensorflow-text->keras-nlp) (3.5.0)\n",
      "Requirement already satisfied: tensorflow-io-gcs-filesystem>=0.23.1 in /home/romildopaiter/.pyenv/versions/3.9.2/lib/python3.9/site-packages (from tensorflow<2.18,>=2.17.0->tensorflow-text->keras-nlp) (0.37.1)\n",
      "Requirement already satisfied: charset-normalizer<4,>=2 in /home/romildopaiter/.pyenv/versions/3.9.2/lib/python3.9/site-packages (from requests->kagglehub->keras-nlp) (3.3.2)\n",
      "Requirement already satisfied: idna<4,>=2.5 in /home/romildopaiter/.pyenv/versions/3.9.2/lib/python3.9/site-packages (from requests->kagglehub->keras-nlp) (3.7)\n",
      "Requirement already satisfied: urllib3<3,>=1.21.1 in /home/romildopaiter/.pyenv/versions/3.9.2/lib/python3.9/site-packages (from requests->kagglehub->keras-nlp) (2.2.2)\n",
      "Requirement already satisfied: certifi>=2017.4.17 in /home/romildopaiter/.pyenv/versions/3.9.2/lib/python3.9/site-packages (from requests->kagglehub->keras-nlp) (2024.7.4)\n",
      "Requirement already satisfied: wheel<1.0,>=0.23.0 in /home/romildopaiter/.pyenv/versions/3.9.2/lib/python3.9/site-packages (from astunparse>=1.6.0->tensorflow<2.18,>=2.17.0->tensorflow-text->keras-nlp) (0.44.0)\n",
      "Requirement already satisfied: namex in /home/romildopaiter/.pyenv/versions/3.9.2/lib/python3.9/site-packages (from keras>=3.2.0->tensorflow<2.18,>=2.17.0->tensorflow-text->keras-nlp) (0.0.8)\n",
      "Requirement already satisfied: optree in /home/romildopaiter/.pyenv/versions/3.9.2/lib/python3.9/site-packages (from keras>=3.2.0->tensorflow<2.18,>=2.17.0->tensorflow-text->keras-nlp) (0.12.1)\n",
      "Requirement already satisfied: markdown>=2.6.8 in /home/romildopaiter/.pyenv/versions/3.9.2/lib/python3.9/site-packages (from tensorboard<2.18,>=2.17->tensorflow<2.18,>=2.17.0->tensorflow-text->keras-nlp) (3.7)\n",
      "Requirement already satisfied: tensorboard-data-server<0.8.0,>=0.7.0 in /home/romildopaiter/.pyenv/versions/3.9.2/lib/python3.9/site-packages (from tensorboard<2.18,>=2.17->tensorflow<2.18,>=2.17.0->tensorflow-text->keras-nlp) (0.7.2)\n",
      "Requirement already satisfied: werkzeug>=1.0.1 in /home/romildopaiter/.pyenv/versions/3.9.2/lib/python3.9/site-packages (from tensorboard<2.18,>=2.17->tensorflow<2.18,>=2.17.0->tensorflow-text->keras-nlp) (3.0.4)\n",
      "Requirement already satisfied: importlib-metadata>=4.4 in /home/romildopaiter/.pyenv/versions/3.9.2/lib/python3.9/site-packages (from markdown>=2.6.8->tensorboard<2.18,>=2.17->tensorflow<2.18,>=2.17.0->tensorflow-text->keras-nlp) (8.0.0)\n",
      "Requirement already satisfied: MarkupSafe>=2.1.1 in /home/romildopaiter/.pyenv/versions/3.9.2/lib/python3.9/site-packages (from werkzeug>=1.0.1->tensorboard<2.18,>=2.17->tensorflow<2.18,>=2.17.0->tensorflow-text->keras-nlp) (2.1.5)\n",
      "Requirement already satisfied: zipp>=0.5 in /home/romildopaiter/.pyenv/versions/3.9.2/lib/python3.9/site-packages (from importlib-metadata>=4.4->markdown>=2.6.8->tensorboard<2.18,>=2.17->tensorflow<2.18,>=2.17.0->tensorflow-text->keras-nlp) (3.19.2)\n",
      "Note: you may need to restart the kernel to use updated packages.\n",
      "Requirement already satisfied: keras in /home/romildopaiter/.pyenv/versions/3.9.2/lib/python3.9/site-packages (3.5.0)\n",
      "Requirement already satisfied: absl-py in /home/romildopaiter/.pyenv/versions/3.9.2/lib/python3.9/site-packages (from keras) (2.1.0)\n",
      "Requirement already satisfied: numpy in /home/romildopaiter/.pyenv/versions/3.9.2/lib/python3.9/site-packages (from keras) (1.26.4)\n",
      "Requirement already satisfied: rich in /home/romildopaiter/.pyenv/versions/3.9.2/lib/python3.9/site-packages (from keras) (13.9.1)\n",
      "Requirement already satisfied: namex in /home/romildopaiter/.pyenv/versions/3.9.2/lib/python3.9/site-packages (from keras) (0.0.8)\n",
      "Requirement already satisfied: h5py in /home/romildopaiter/.pyenv/versions/3.9.2/lib/python3.9/site-packages (from keras) (3.12.1)\n",
      "Requirement already satisfied: optree in /home/romildopaiter/.pyenv/versions/3.9.2/lib/python3.9/site-packages (from keras) (0.12.1)\n",
      "Requirement already satisfied: ml-dtypes in /home/romildopaiter/.pyenv/versions/3.9.2/lib/python3.9/site-packages (from keras) (0.4.1)\n",
      "Requirement already satisfied: packaging in /home/romildopaiter/.pyenv/versions/3.9.2/lib/python3.9/site-packages (from keras) (24.1)\n",
      "Requirement already satisfied: typing-extensions>=4.5.0 in /home/romildopaiter/.pyenv/versions/3.9.2/lib/python3.9/site-packages (from optree->keras) (4.12.2)\n",
      "Requirement already satisfied: markdown-it-py>=2.2.0 in /home/romildopaiter/.pyenv/versions/3.9.2/lib/python3.9/site-packages (from rich->keras) (3.0.0)\n",
      "Requirement already satisfied: pygments<3.0.0,>=2.13.0 in /home/romildopaiter/.pyenv/versions/3.9.2/lib/python3.9/site-packages (from rich->keras) (2.18.0)\n",
      "Requirement already satisfied: mdurl~=0.1 in /home/romildopaiter/.pyenv/versions/3.9.2/lib/python3.9/site-packages (from markdown-it-py>=2.2.0->rich->keras) (0.1.2)\n",
      "Note: you may need to restart the kernel to use updated packages.\n"
     ]
    }
   ],
   "source": [
    "# %pip install --upgrade gensim\n",
    "#%pip install --upgrade pip\n",
    "#%pip install tensorflow[and-cuda]\n",
    "# Verify the installation:\n",
    "#python3 -c \"import tensorflow as tf; print(tf.config.list_physical_devices('GPU'))\"\n",
    "#%pip install nltk -U\n",
    "#%pip install spacy -U\n",
    "#%pip install -U textblob\n",
    "\n",
    "#%pip install --upgrade keras-cv\n",
    "#%pip install --upgrade keras-nlp\n",
    "#%pip install --upgrade keras\n"
   ]
  },
  {
   "cell_type": "code",
   "execution_count": 7,
   "metadata": {},
   "outputs": [
    {
     "name": "stderr",
     "output_type": "stream",
     "text": [
      "2024-10-01 13:05:36.732518: I tensorflow/core/util/port.cc:153] oneDNN custom operations are on. You may see slightly different numerical results due to floating-point round-off errors from different computation orders. To turn them off, set the environment variable `TF_ENABLE_ONEDNN_OPTS=0`.\n",
      "2024-10-01 13:05:36.744223: E external/local_xla/xla/stream_executor/cuda/cuda_fft.cc:485] Unable to register cuFFT factory: Attempting to register factory for plugin cuFFT when one has already been registered\n",
      "2024-10-01 13:05:36.759733: E external/local_xla/xla/stream_executor/cuda/cuda_dnn.cc:8454] Unable to register cuDNN factory: Attempting to register factory for plugin cuDNN when one has already been registered\n",
      "2024-10-01 13:05:36.763669: E external/local_xla/xla/stream_executor/cuda/cuda_blas.cc:1452] Unable to register cuBLAS factory: Attempting to register factory for plugin cuBLAS when one has already been registered\n",
      "2024-10-01 13:05:36.776131: I tensorflow/core/platform/cpu_feature_guard.cc:210] This TensorFlow binary is optimized to use available CPU instructions in performance-critical operations.\n",
      "To enable the following instructions: AVX2 AVX512F AVX512_VNNI FMA, in other operations, rebuild TensorFlow with the appropriate compiler flags.\n",
      "2024-10-01 13:05:37.691128: W tensorflow/compiler/tf2tensorrt/utils/py_utils.cc:38] TF-TRT Warning: Could not find TensorRT\n"
     ]
    },
    {
     "name": "stdout",
     "output_type": "stream",
     "text": [
      "[]\n"
     ]
    }
   ],
   "source": [
    "import tensorflow as tf; print(tf.config.list_physical_devices('GPU'))"
   ]
  },
  {
   "cell_type": "code",
   "execution_count": 45,
   "metadata": {},
   "outputs": [
    {
     "name": "stderr",
     "output_type": "stream",
     "text": [
      "[nltk_data] Downloading package punkt_tab to\n",
      "[nltk_data]     /home/romildopaiter/nltk_data...\n",
      "[nltk_data]   Package punkt_tab is already up-to-date!\n"
     ]
    }
   ],
   "source": [
    "import tokenize\n",
    "from textblob import TextBlob\n",
    "\n",
    "import nltk\n",
    "#nltk.download()\n",
    "import re\n",
    "import spacy\n",
    "\n",
    "spacy.load('en_core_web_sm')\n",
    "nltk.download('punkt_tab')\n",
    "\n",
    "from nltk.tokenize import word_tokenize, sent_tokenize, TreebankWordDetokenizer, wordpunct_tokenize, TweetTokenizer, MWETokenizer\n",
    "\n",
    "import re\n",
    "from collections import Counter\n",
    "\n"
   ]
  },
  {
   "cell_type": "code",
   "execution_count": 64,
   "metadata": {},
   "outputs": [],
   "source": [
    "text = \"A tokenização é o processo de dividir um texto em unidades menores chamadas tokens, que podem ser palavras, caracteres ou subpalavras, e a análise desses tokens permite entender a estrutura e o significado do texto de forma mais precisa.\""
   ]
  },
  {
   "cell_type": "code",
   "execution_count": 65,
   "metadata": {},
   "outputs": [
    {
     "name": "stdout",
     "output_type": "stream",
     "text": [
      "['A', 'tokenização', 'é', 'o', 'processo', 'de', 'dividir', 'um', 'texto', 'em', 'unidades', 'menores', 'chamadas', 'tokens', ',', 'que', 'podem', 'ser', 'palavras', ',', 'caracteres', 'ou', 'subpalavras', ',', 'e', 'a', 'análise', 'desses', 'tokens', 'permite', 'entender', 'a', 'estrutura', 'e', 'o', 'significado', 'do', 'texto', 'de', 'forma', 'mais', 'precisa', '.']\n"
     ]
    }
   ],
   "source": [
    "print(word_tokenize(text))\n"
   ]
  },
  {
   "cell_type": "code",
   "execution_count": 69,
   "metadata": {},
   "outputs": [
    {
     "name": "stdout",
     "output_type": "stream",
     "text": [
      "['A tokenização é o processo de dividir um texto em unidades menores chamadas tokens, que podem ser palavras, caracteres ou subpalavras, e a análise desses tokens permite entender a estrutura e o significado do texto de forma mais precisa.']\n"
     ]
    }
   ],
   "source": [
    "print(sent_tokenize(text))"
   ]
  },
  {
   "cell_type": "code",
   "execution_count": 71,
   "metadata": {},
   "outputs": [
    {
     "name": "stdout",
     "output_type": "stream",
     "text": [
      "['A', 'tokenização', 'é', 'o', 'processo', 'de', 'dividir', 'um', 'texto', 'em', 'unidades', 'menores', 'chamadas', 'tokens', ',', 'que', 'podem', 'ser', 'palavras', ',', 'caracteres', 'ou', 'subpalavras', ',', 'e', 'a', 'análise', 'desses', 'tokens', 'permite', 'entender', 'a', 'estrutura', 'e', 'o', 'significado', 'do', 'texto', 'de', 'forma', 'mais', 'precisa', '.']\n",
      "Counter({',': 3, 'o': 2, 'de': 2, 'texto': 2, 'tokens': 2, 'e': 2, 'a': 2, 'A': 1, 'tokenização': 1, 'é': 1, 'processo': 1, 'dividir': 1, 'um': 1, 'em': 1, 'unidades': 1, 'menores': 1, 'chamadas': 1, 'que': 1, 'podem': 1, 'ser': 1, 'palavras': 1, 'caracteres': 1, 'ou': 1, 'subpalavras': 1, 'análise': 1, 'desses': 1, 'permite': 1, 'entender': 1, 'estrutura': 1, 'significado': 1, 'do': 1, 'forma': 1, 'mais': 1, 'precisa': 1, '.': 1})\n",
      "35\n"
     ]
    }
   ],
   "source": [
    "token_words = wordpunct_tokenize(text)\n",
    "print(token_words)\n",
    "\n",
    "counts = Counter(token_words)\n",
    "print(counts)\n",
    "print(len(counts))"
   ]
  },
  {
   "cell_type": "code",
   "execution_count": 68,
   "metadata": {},
   "outputs": [
    {
     "data": {
      "text/plain": [
       "Counter({'o': 2,\n",
       "         'de': 2,\n",
       "         'texto': 2,\n",
       "         'tokens': 2,\n",
       "         'e': 2,\n",
       "         'a': 2,\n",
       "         'A': 1,\n",
       "         'tokenização': 1,\n",
       "         'processo': 1,\n",
       "         'dividir': 1,\n",
       "         'um': 1,\n",
       "         'em': 1,\n",
       "         'unidades': 1,\n",
       "         'menores': 1,\n",
       "         'chamadas': 1,\n",
       "         'que': 1,\n",
       "         'podem': 1,\n",
       "         'ser': 1,\n",
       "         'palavras': 1,\n",
       "         'caracteres': 1,\n",
       "         'ou': 1,\n",
       "         'subpalavras': 1,\n",
       "         'análise': 1,\n",
       "         'desses': 1,\n",
       "         'permite': 1,\n",
       "         'entender': 1,\n",
       "         'estrutura': 1,\n",
       "         'significado': 1,\n",
       "         'do': 1,\n",
       "         'forma': 1,\n",
       "         'mais': 1,\n",
       "         'precisa': 1})"
      ]
     },
     "execution_count": 68,
     "metadata": {},
     "output_type": "execute_result"
    }
   ],
   "source": [
    "\n",
    "# from nltk.tokenize import word_tokenize, sent_tokenize, TreebankWordDetokenizer, wordpunct_tokenize, TweetTokenizer, MWETokenizer\n",
    "\n",
    "nonPunct = re.compile('.*[A-Za-z0-9].*')  # must contain a letter or digit\n",
    "filtered = [w for w in token_words if nonPunct.match(w)]\n",
    "counts = Counter(filtered)\n",
    "counts\n",
    "#Counter({'this': 1, 'a': 1, 'is': 1, 'sentence': 1})"
   ]
  },
  {
   "cell_type": "code",
   "execution_count": 72,
   "metadata": {},
   "outputs": [],
   "source": [
    "from string import punctuation   \n",
    "punctuations = list(punctuation)\n",
    "punctuations.append(\"''\")\n",
    "punctuations.append(\"--\")\n",
    "punctuations.append(\"``\")\n",
    "punctuations.append(\",\")\n",
    "punctuations.append(\".\")\n",
    "from string import punctuation \n",
    "text = [word for word in text if word not in punctuations]"
   ]
  },
  {
   "cell_type": "code",
   "execution_count": 73,
   "metadata": {},
   "outputs": [
    {
     "data": {
      "text/plain": [
       "35"
      ]
     },
     "execution_count": 73,
     "metadata": {},
     "output_type": "execute_result"
    }
   ],
   "source": [
    "word_count = Counter(token_words)\n",
    "len(word_count)\n"
   ]
  },
  {
   "cell_type": "code",
   "execution_count": 74,
   "metadata": {},
   "outputs": [
    {
     "data": {
      "text/plain": [
       "0.8540772532188842"
      ]
     },
     "execution_count": 74,
     "metadata": {},
     "output_type": "execute_result"
    }
   ],
   "source": [
    "sum(len(x)* y for x, y in word_count.items()) / len(text)"
   ]
  },
  {
   "cell_type": "code",
   "execution_count": 56,
   "metadata": {},
   "outputs": [
    {
     "data": {
      "text/plain": [
       "43"
      ]
     },
     "execution_count": 56,
     "metadata": {},
     "output_type": "execute_result"
    }
   ],
   "source": [
    "from nltk.probability import FreqDist\n",
    "fdist = FreqDist(token_words)\n",
    "fdist.N()"
   ]
  }
 ],
 "metadata": {
  "kernelspec": {
   "display_name": "Python 3",
   "language": "python",
   "name": "python3"
  },
  "language_info": {
   "codemirror_mode": {
    "name": "ipython",
    "version": 3
   },
   "file_extension": ".py",
   "mimetype": "text/x-python",
   "name": "python",
   "nbconvert_exporter": "python",
   "pygments_lexer": "ipython3",
   "version": "3.9.2"
  }
 },
 "nbformat": 4,
 "nbformat_minor": 2
}
